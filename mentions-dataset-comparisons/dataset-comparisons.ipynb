{
 "cells": [
  {
   "cell_type": "markdown",
   "id": "8c27c449",
   "metadata": {},
   "source": [
    "# Comparing datasets"
   ]
  },
  {
   "cell_type": "markdown",
   "id": "4f1a6e86",
   "metadata": {},
   "source": []
  },
  {
   "cell_type": "code",
   "execution_count": 2,
   "id": "97b796ff",
   "metadata": {},
   "outputs": [],
   "source": [
    "import polars as pl\n",
    "import matplotlib.pyplot as plt"
   ]
  },
  {
   "cell_type": "code",
   "execution_count": null,
   "id": "45694580",
   "metadata": {},
   "outputs": [],
   "source": [
    "ROOT_DATA_DIR = \"../data/\"\n",
    "\n",
    "czi_df = pl.read_parquet(ROOT_DATA_DIR + \"CZI/processed-CZI-dataset.parquet\")\n",
    "kg_pmc_df = pl.read_parquet(ROOT_DATA_DIR + \"software-kg-pmc/processed-pmc-kg-dataset.parquet\")\n"
   ]
  },
  {
   "cell_type": "markdown",
   "id": "36b050ec",
   "metadata": {},
   "source": [
    "## Standardising the processed datasets"
   ]
  },
  {
   "cell_type": "code",
   "execution_count": 4,
   "id": "b706cb72",
   "metadata": {},
   "outputs": [
    {
     "data": {
      "text/html": [
       "<div><style>\n",
       ".dataframe > thead > tr,\n",
       ".dataframe > tbody > tr {\n",
       "  text-align: right;\n",
       "  white-space: pre-wrap;\n",
       "}\n",
       "</style>\n",
       "<small>shape: (9, 8)</small><table border=\"1\" class=\"dataframe\"><thead><tr><th>statistic</th><th>article_doi</th><th>software_id_CZI</th><th>software_rrid</th><th>software_name</th><th>software_url</th><th>context</th><th>article_pmcid</th></tr><tr><td>str</td><td>str</td><td>str</td><td>str</td><td>str</td><td>f64</td><td>str</td><td>f64</td></tr></thead><tbody><tr><td>&quot;count&quot;</td><td>&quot;16056698&quot;</td><td>&quot;16158993&quot;</td><td>&quot;4223665&quot;</td><td>&quot;16153163&quot;</td><td>9.46531e6</td><td>&quot;16158993&quot;</td><td>1.6158993e7</td></tr><tr><td>&quot;null_count&quot;</td><td>&quot;102295&quot;</td><td>&quot;0&quot;</td><td>&quot;11935328&quot;</td><td>&quot;5830&quot;</td><td>6.693683e6</td><td>&quot;0&quot;</td><td>0.0</td></tr><tr><td>&quot;mean&quot;</td><td>null</td><td>null</td><td>null</td><td>null</td><td>null</td><td>null</td><td>5.9125e6</td></tr><tr><td>&quot;std&quot;</td><td>null</td><td>null</td><td>null</td><td>null</td><td>null</td><td>null</td><td>1.7347e6</td></tr><tr><td>&quot;min&quot;</td><td>&quot; 10.1186/1477-5956-10-26&quot;</td><td>&quot;SM0&quot;</td><td>&quot;SCR_000004&quot;</td><td>&quot; MGA&quot;</td><td>null</td><td>&quot; # 198 genes mapped to this te…</td><td>176545.0</td></tr><tr><td>&quot;25%&quot;</td><td>null</td><td>null</td><td>null</td><td>null</td><td>null</td><td>null</td><td>4.540975e6</td></tr><tr><td>&quot;50%&quot;</td><td>null</td><td>null</td><td>null</td><td>null</td><td>null</td><td>null</td><td>6.126143e6</td></tr><tr><td>&quot;75%&quot;</td><td>null</td><td>null</td><td>null</td><td>null</td><td>null</td><td>null</td><td>7.415876e6</td></tr><tr><td>&quot;max&quot;</td><td>&quot;10.9745/GHSP-D-21-00144&quot;</td><td>&quot;SM999999&quot;</td><td>&quot;SCR_021924&quot;</td><td>&quot;鼠源及人源化BCMA CAR-T的转染效率&quot;</td><td>null</td><td>&quot;𝜀c regressions and comparisons…</td><td>8.51084e6</td></tr></tbody></table></div>"
      ],
      "text/plain": [
       "shape: (9, 8)\n",
       "┌────────────┬────────────┬────────────┬───────────┬───────────┬───────────┬───────────┬───────────┐\n",
       "│ statistic  ┆ article_do ┆ software_i ┆ software_ ┆ software_ ┆ software_ ┆ context   ┆ article_p │\n",
       "│ ---        ┆ i          ┆ d_CZI      ┆ rrid      ┆ name      ┆ url       ┆ ---       ┆ mcid      │\n",
       "│ str        ┆ ---        ┆ ---        ┆ ---       ┆ ---       ┆ ---       ┆ str       ┆ ---       │\n",
       "│            ┆ str        ┆ str        ┆ str       ┆ str       ┆ f64       ┆           ┆ f64       │\n",
       "╞════════════╪════════════╪════════════╪═══════════╪═══════════╪═══════════╪═══════════╪═══════════╡\n",
       "│ count      ┆ 16056698   ┆ 16158993   ┆ 4223665   ┆ 16153163  ┆ 9.46531e6 ┆ 16158993  ┆ 1.6158993 │\n",
       "│            ┆            ┆            ┆           ┆           ┆           ┆           ┆ e7        │\n",
       "│ null_count ┆ 102295     ┆ 0          ┆ 11935328  ┆ 5830      ┆ 6.693683e ┆ 0         ┆ 0.0       │\n",
       "│            ┆            ┆            ┆           ┆           ┆ 6         ┆           ┆           │\n",
       "│ mean       ┆ null       ┆ null       ┆ null      ┆ null      ┆ null      ┆ null      ┆ 5.9125e6  │\n",
       "│ std        ┆ null       ┆ null       ┆ null      ┆ null      ┆ null      ┆ null      ┆ 1.7347e6  │\n",
       "│ min        ┆ 10.1186/14 ┆ SM0        ┆ SCR_00000 ┆  MGA      ┆ null      ┆ # 198     ┆ 176545.0  │\n",
       "│            ┆ 77-5956-10 ┆            ┆ 4         ┆           ┆           ┆ genes     ┆           │\n",
       "│            ┆ -26        ┆            ┆           ┆           ┆           ┆ mapped to ┆           │\n",
       "│            ┆            ┆            ┆           ┆           ┆           ┆ this te…  ┆           │\n",
       "│ 25%        ┆ null       ┆ null       ┆ null      ┆ null      ┆ null      ┆ null      ┆ 4.540975e │\n",
       "│            ┆            ┆            ┆           ┆           ┆           ┆           ┆ 6         │\n",
       "│ 50%        ┆ null       ┆ null       ┆ null      ┆ null      ┆ null      ┆ null      ┆ 6.126143e │\n",
       "│            ┆            ┆            ┆           ┆           ┆           ┆           ┆ 6         │\n",
       "│ 75%        ┆ null       ┆ null       ┆ null      ┆ null      ┆ null      ┆ null      ┆ 7.415876e │\n",
       "│            ┆            ┆            ┆           ┆           ┆           ┆           ┆ 6         │\n",
       "│ max        ┆ 10.9745/GH ┆ SM999999   ┆ SCR_02192 ┆ 鼠源及人  ┆ null      ┆ 𝜀c regres ┆ 8.51084e6 │\n",
       "│            ┆ SP-D-21-00 ┆            ┆ 4         ┆ 源化BCMA  ┆           ┆ sions and ┆           │\n",
       "│            ┆ 144        ┆            ┆           ┆ CAR-T的转 ┆           ┆ compariso ┆           │\n",
       "│            ┆            ┆            ┆           ┆ 染效率    ┆           ┆ ns…       ┆           │\n",
       "└────────────┴────────────┴────────────┴───────────┴───────────┴───────────┴───────────┴───────────┘"
      ]
     },
     "execution_count": 4,
     "metadata": {},
     "output_type": "execute_result"
    }
   ],
   "source": [
    "czi_df.describe()"
   ]
  },
  {
   "cell_type": "code",
   "execution_count": 5,
   "id": "cba32a68",
   "metadata": {},
   "outputs": [
    {
     "data": {
      "text/html": [
       "<div><style>\n",
       ".dataframe > thead > tr,\n",
       ".dataframe > tbody > tr {\n",
       "  text-align: right;\n",
       "  white-space: pre-wrap;\n",
       "}\n",
       "</style>\n",
       "<small>shape: (9, 7)</small><table border=\"1\" class=\"dataframe\"><thead><tr><th>statistic</th><th>article_id</th><th>software_id</th><th>top_software_name</th><th>all_software_names</th><th>software_url</th><th>mention_types</th></tr><tr><td>str</td><td>str</td><td>f64</td><td>str</td><td>str</td><td>str</td><td>str</td></tr></thead><tbody><tr><td>&quot;count&quot;</td><td>&quot;7466923&quot;</td><td>7.466923e6</td><td>&quot;7466923&quot;</td><td>&quot;7466923&quot;</td><td>&quot;550716&quot;</td><td>&quot;7466923&quot;</td></tr><tr><td>&quot;null_count&quot;</td><td>&quot;0&quot;</td><td>0.0</td><td>&quot;0&quot;</td><td>&quot;0&quot;</td><td>&quot;6916207&quot;</td><td>&quot;0&quot;</td></tr><tr><td>&quot;mean&quot;</td><td>null</td><td>1.4902e6</td><td>null</td><td>null</td><td>null</td><td>null</td></tr><tr><td>&quot;std&quot;</td><td>null</td><td>141624.705752</td><td>null</td><td>null</td><td>null</td><td>null</td></tr><tr><td>&quot;min&quot;</td><td>&quot;Eur_J_Neurosci_2015_Nov_6_42(1…</td><td>25.0</td><td>&quot;!&quot;</td><td>&quot;!&quot;</td><td>&quot;&quot;</td><td>&quot;Creation&quot;</td></tr><tr><td>&quot;25%&quot;</td><td>null</td><td>1.476301e6</td><td>null</td><td>null</td><td>null</td><td>null</td></tr><tr><td>&quot;50%&quot;</td><td>null</td><td>1.482531e6</td><td>null</td><td>null</td><td>null</td><td>null</td></tr><tr><td>&quot;75%&quot;</td><td>null</td><td>1.513869e6</td><td>null</td><td>null</td><td>null</td><td>null</td></tr><tr><td>&quot;max&quot;</td><td>&quot;PMC99051&quot;</td><td>1.778958e6</td><td>&quot;⋆&quot;</td><td>&quot;⋆&quot;</td><td>&quot;∼/pyneal/pyneal_scanner&quot;</td><td>&quot;Usage; Mention; Deposition; Cr…</td></tr></tbody></table></div>"
      ],
      "text/plain": [
       "shape: (9, 7)\n",
       "┌────────────┬──────────────┬──────────────┬─────────────┬─────────────┬─────────────┬─────────────┐\n",
       "│ statistic  ┆ article_id   ┆ software_id  ┆ top_softwar ┆ all_softwar ┆ software_ur ┆ mention_typ │\n",
       "│ ---        ┆ ---          ┆ ---          ┆ e_name      ┆ e_names     ┆ l           ┆ es          │\n",
       "│ str        ┆ str          ┆ f64          ┆ ---         ┆ ---         ┆ ---         ┆ ---         │\n",
       "│            ┆              ┆              ┆ str         ┆ str         ┆ str         ┆ str         │\n",
       "╞════════════╪══════════════╪══════════════╪═════════════╪═════════════╪═════════════╪═════════════╡\n",
       "│ count      ┆ 7466923      ┆ 7.466923e6   ┆ 7466923     ┆ 7466923     ┆ 550716      ┆ 7466923     │\n",
       "│ null_count ┆ 0            ┆ 0.0          ┆ 0           ┆ 0           ┆ 6916207     ┆ 0           │\n",
       "│ mean       ┆ null         ┆ 1.4902e6     ┆ null        ┆ null        ┆ null        ┆ null        │\n",
       "│ std        ┆ null         ┆ 141624.70575 ┆ null        ┆ null        ┆ null        ┆ null        │\n",
       "│            ┆              ┆ 2            ┆             ┆             ┆             ┆             │\n",
       "│ min        ┆ Eur_J_Neuros ┆ 25.0         ┆ !           ┆ !           ┆             ┆ Creation    │\n",
       "│            ┆ ci_2015_Nov_ ┆              ┆             ┆             ┆             ┆             │\n",
       "│            ┆ 6_42(1…      ┆              ┆             ┆             ┆             ┆             │\n",
       "│ 25%        ┆ null         ┆ 1.476301e6   ┆ null        ┆ null        ┆ null        ┆ null        │\n",
       "│ 50%        ┆ null         ┆ 1.482531e6   ┆ null        ┆ null        ┆ null        ┆ null        │\n",
       "│ 75%        ┆ null         ┆ 1.513869e6   ┆ null        ┆ null        ┆ null        ┆ null        │\n",
       "│ max        ┆ PMC99051     ┆ 1.778958e6   ┆ ⋆           ┆ ⋆           ┆ ∼/pyneal/py ┆ Usage;      │\n",
       "│            ┆              ┆              ┆             ┆             ┆ neal_scanne ┆ Mention;    │\n",
       "│            ┆              ┆              ┆             ┆             ┆ r           ┆ Deposition; │\n",
       "│            ┆              ┆              ┆             ┆             ┆             ┆ Cr…         │\n",
       "└────────────┴──────────────┴──────────────┴─────────────┴─────────────┴─────────────┴─────────────┘"
      ]
     },
     "execution_count": 5,
     "metadata": {},
     "output_type": "execute_result"
    }
   ],
   "source": [
    "kg_pmc_df.describe()"
   ]
  },
  {
   "cell_type": "markdown",
   "id": "a23a8186",
   "metadata": {},
   "source": [
    "### Standardising naming and type"
   ]
  },
  {
   "cell_type": "markdown",
   "id": "542623df",
   "metadata": {},
   "source": [
    "> **TODO:** check if the KG PMC software ID is mention id or dataset specific software id - perhaps rename to something more general than software_id_<dataset> since in the CZI dataset I belive it is actually the mention ID rather than their \"local\" software id"
   ]
  },
  {
   "cell_type": "code",
   "execution_count": null,
   "id": "c1e3458e",
   "metadata": {},
   "outputs": [],
   "source": [
    "kg_pmc_df = (\n",
    "    kg_pmc_df.rename(\n",
    "        {\"article_id\": \"article_pmcid\", # Updating to reflect what type of ID it is, to match CZI\n",
    "         \"software_id\": \"software_id_kg_pmc\" # Updating to reflect that it is the dataset specific id \n",
    "         \n",
    "    })\n",
    ")\n",
    "\n",
    "czi_df = (\n",
    "    czi_df.rename(\n",
    "        {\"software_name\": \"top_software_name\", # Update to match format of the KG-PMC dataset\n",
    "         \"software_id_CZI\": \"software_id_czi\"\n",
    "    })\n",
    ")\n",
    "\n",
    "czi_df = czi_df.with_columns( \n",
    "    (\"PMC\" + pl.col(\"article_pmcid\").cast(pl.Utf8)).alias(\"article_pmcid\") # Update CZI dataset to have pmcid on the format \"PMCxxxxxxx\" like somisci\n",
    ")"
   ]
  },
  {
   "cell_type": "markdown",
   "id": "41db0b62",
   "metadata": {},
   "source": [
    "### Standardising order"
   ]
  },
  {
   "cell_type": "code",
   "execution_count": 7,
   "id": "e0b765c9",
   "metadata": {},
   "outputs": [],
   "source": [
    "stand_czi_df = czi_df.select([\n",
    "    \"article_pmcid\",\n",
    "    \"software_id_czi\",\n",
    "    \"top_software_name\",\n",
    "    \"software_url\",\n",
    "\n",
    "    # Unique to this dataset\n",
    "    \"context\",\n",
    "    \"article_doi\",\n",
    "    \"software_rrid\",\n",
    "\n",
    "])\n",
    "\n",
    "stand_kg_pmc_df = kg_pmc_df.select([\n",
    "    \"article_pmcid\",\n",
    "    \"software_id_kg_pmc\",\n",
    "    \"top_software_name\",\n",
    "    \"software_url\",\n",
    "\n",
    "    # Unique to this dataset\n",
    "    \"all_software_names\",\n",
    "    \"mention_types\"\n",
    "])"
   ]
  },
  {
   "cell_type": "code",
   "execution_count": 8,
   "id": "0d56b220",
   "metadata": {},
   "outputs": [
    {
     "data": {
      "text/html": [
       "<div><style>\n",
       ".dataframe > thead > tr,\n",
       ".dataframe > tbody > tr {\n",
       "  text-align: right;\n",
       "  white-space: pre-wrap;\n",
       "}\n",
       "</style>\n",
       "<small>shape: (1, 7)</small><table border=\"1\" class=\"dataframe\"><thead><tr><th>statistic</th><th>article_pmcid</th><th>software_id_kg_pmc</th><th>top_software_name</th><th>software_url</th><th>all_software_names</th><th>mention_types</th></tr><tr><td>str</td><td>str</td><td>f64</td><td>str</td><td>str</td><td>str</td><td>str</td></tr></thead><tbody><tr><td>&quot;count&quot;</td><td>&quot;7466923&quot;</td><td>7.466923e6</td><td>&quot;7466923&quot;</td><td>&quot;550716&quot;</td><td>&quot;7466923&quot;</td><td>&quot;7466923&quot;</td></tr></tbody></table></div>"
      ],
      "text/plain": [
       "shape: (1, 7)\n",
       "┌───────────┬──────────────┬──────────────┬──────────────┬─────────────┬─────────────┬─────────────┐\n",
       "│ statistic ┆ article_pmci ┆ software_id_ ┆ top_software ┆ software_ur ┆ all_softwar ┆ mention_typ │\n",
       "│ ---       ┆ d            ┆ kg_pmc       ┆ _name        ┆ l           ┆ e_names     ┆ es          │\n",
       "│ str       ┆ ---          ┆ ---          ┆ ---          ┆ ---         ┆ ---         ┆ ---         │\n",
       "│           ┆ str          ┆ f64          ┆ str          ┆ str         ┆ str         ┆ str         │\n",
       "╞═══════════╪══════════════╪══════════════╪══════════════╪═════════════╪═════════════╪═════════════╡\n",
       "│ count     ┆ 7466923      ┆ 7.466923e6   ┆ 7466923      ┆ 550716      ┆ 7466923     ┆ 7466923     │\n",
       "└───────────┴──────────────┴──────────────┴──────────────┴─────────────┴─────────────┴─────────────┘"
      ]
     },
     "execution_count": 8,
     "metadata": {},
     "output_type": "execute_result"
    }
   ],
   "source": [
    "stand_kg_pmc_df.describe()[0]"
   ]
  },
  {
   "cell_type": "code",
   "execution_count": 9,
   "id": "9dc07b69",
   "metadata": {},
   "outputs": [
    {
     "data": {
      "text/html": [
       "<div><style>\n",
       ".dataframe > thead > tr,\n",
       ".dataframe > tbody > tr {\n",
       "  text-align: right;\n",
       "  white-space: pre-wrap;\n",
       "}\n",
       "</style>\n",
       "<small>shape: (1, 8)</small><table border=\"1\" class=\"dataframe\"><thead><tr><th>statistic</th><th>article_pmcid</th><th>software_id_czi</th><th>top_software_name</th><th>software_url</th><th>context</th><th>article_doi</th><th>software_rrid</th></tr><tr><td>str</td><td>str</td><td>str</td><td>str</td><td>f64</td><td>str</td><td>str</td><td>str</td></tr></thead><tbody><tr><td>&quot;count&quot;</td><td>&quot;16158993&quot;</td><td>&quot;16158993&quot;</td><td>&quot;16153163&quot;</td><td>9.46531e6</td><td>&quot;16158993&quot;</td><td>&quot;16056698&quot;</td><td>&quot;4223665&quot;</td></tr></tbody></table></div>"
      ],
      "text/plain": [
       "shape: (1, 8)\n",
       "┌───────────┬────────────┬────────────┬────────────┬────────────┬──────────┬───────────┬───────────┐\n",
       "│ statistic ┆ article_pm ┆ software_i ┆ top_softwa ┆ software_u ┆ context  ┆ article_d ┆ software_ │\n",
       "│ ---       ┆ cid        ┆ d_czi      ┆ re_name    ┆ rl         ┆ ---      ┆ oi        ┆ rrid      │\n",
       "│ str       ┆ ---        ┆ ---        ┆ ---        ┆ ---        ┆ str      ┆ ---       ┆ ---       │\n",
       "│           ┆ str        ┆ str        ┆ str        ┆ f64        ┆          ┆ str       ┆ str       │\n",
       "╞═══════════╪════════════╪════════════╪════════════╪════════════╪══════════╪═══════════╪═══════════╡\n",
       "│ count     ┆ 16158993   ┆ 16158993   ┆ 16153163   ┆ 9.46531e6  ┆ 16158993 ┆ 16056698  ┆ 4223665   │\n",
       "└───────────┴────────────┴────────────┴────────────┴────────────┴──────────┴───────────┴───────────┘"
      ]
     },
     "execution_count": 9,
     "metadata": {},
     "output_type": "execute_result"
    }
   ],
   "source": [
    "stand_czi_df.describe()[0]"
   ]
  },
  {
   "cell_type": "code",
   "execution_count": 10,
   "id": "9f53a4e0",
   "metadata": {},
   "outputs": [
    {
     "data": {
      "text/html": [
       "<div><style>\n",
       ".dataframe > thead > tr,\n",
       ".dataframe > tbody > tr {\n",
       "  text-align: right;\n",
       "  white-space: pre-wrap;\n",
       "}\n",
       "</style>\n",
       "<small>shape: (16_158_993, 7)</small><table border=\"1\" class=\"dataframe\"><thead><tr><th>article_pmcid</th><th>software_id_czi</th><th>top_software_name</th><th>software_url</th><th>context</th><th>article_doi</th><th>software_rrid</th></tr><tr><td>str</td><td>str</td><td>str</td><td>list[str]</td><td>str</td><td>str</td><td>str</td></tr></thead><tbody><tr><td>&quot;PMC8475362&quot;</td><td>&quot;SM0&quot;</td><td>&quot;Olympus CellSens&quot;</td><td>null</td><td>&quot;Then, all items were photograp…</td><td>&quot;10.1186/s43591-021-00017-9&quot;</td><td>null</td></tr><tr><td>&quot;PMC8475362&quot;</td><td>&quot;SM1&quot;</td><td>&quot;OPUS&quot;</td><td>null</td><td>&quot;Spectra were then vector norma…</td><td>&quot;10.1186/s43591-021-00017-9&quot;</td><td>null</td></tr><tr><td>&quot;PMC8475362&quot;</td><td>&quot;SM2&quot;</td><td>&quot;R package DHARMa&quot;</td><td>null</td><td>&quot;Model fit was assessed through…</td><td>&quot;10.1186/s43591-021-00017-9&quot;</td><td>null</td></tr><tr><td>&quot;PMC8475362&quot;</td><td>&quot;SM3&quot;</td><td>&quot;R&quot;</td><td>[null, null, … &quot;https://github.com/ncornwell/R&quot;]</td><td>&quot;Analyses and plotting were per…</td><td>&quot;10.1186/s43591-021-00017-9&quot;</td><td>null</td></tr><tr><td>&quot;PMC8475362&quot;</td><td>&quot;SM3&quot;</td><td>&quot;R&quot;</td><td>[null, null, … &quot;https://github.com/dmpe/R&quot;]</td><td>&quot;Analyses and plotting were per…</td><td>&quot;10.1186/s43591-021-00017-9&quot;</td><td>null</td></tr><tr><td>&hellip;</td><td>&hellip;</td><td>&hellip;</td><td>&hellip;</td><td>&hellip;</td><td>&hellip;</td><td>&hellip;</td></tr><tr><td>&quot;PMC6683272&quot;</td><td>&quot;SM53566&quot;</td><td>&quot;MetaVision&quot;</td><td>null</td><td>&quot;All data were obtained by revi…</td><td>&quot;10.3390/nu11071443&quot;</td><td>null</td></tr><tr><td>&quot;PMC6683272&quot;</td><td>&quot;SM4442&quot;</td><td>null</td><td>null</td><td>&quot;All data were obtained by revi…</td><td>&quot;10.3390/nu11071443&quot;</td><td>null</td></tr><tr><td>&quot;PMC6683272&quot;</td><td>&quot;SM53019&quot;</td><td>&quot;iMDsoft&quot;</td><td>null</td><td>&quot;All data were obtained by revi…</td><td>&quot;10.3390/nu11071443&quot;</td><td>null</td></tr><tr><td>&quot;PMC6683272&quot;</td><td>&quot;SM165&quot;</td><td>&quot;SPSS&quot;</td><td>[&quot;[&#x27;http://www-01.ibm.com/software/uk/analytics/spss/&#x27;]&quot;, &quot;[&#x27;https://www.ibm.com/products/software&#x27;]&quot;, … &quot;https://scicrunch.org/browse/resources/SCR_002865&quot;]</td><td>&quot;Statistical analysis was perfo…</td><td>&quot;10.3390/nu11071443&quot;</td><td>&quot;SCR_002865&quot;</td></tr><tr><td>&quot;PMC6683272&quot;</td><td>&quot;SM165&quot;</td><td>&quot;SPSS&quot;</td><td>[null, null, … &quot;https://github.com/laribio/SPSS&quot;]</td><td>&quot;Statistical analysis was perfo…</td><td>&quot;10.3390/nu11071443&quot;</td><td>null</td></tr></tbody></table></div>"
      ],
      "text/plain": [
       "shape: (16_158_993, 7)\n",
       "┌──────────────┬─────────────┬─────────────┬─────────────┬─────────────┬─────────────┬─────────────┐\n",
       "│ article_pmci ┆ software_id ┆ top_softwar ┆ software_ur ┆ context     ┆ article_doi ┆ software_rr │\n",
       "│ d            ┆ _czi        ┆ e_name      ┆ l           ┆ ---         ┆ ---         ┆ id          │\n",
       "│ ---          ┆ ---         ┆ ---         ┆ ---         ┆ str         ┆ str         ┆ ---         │\n",
       "│ str          ┆ str         ┆ str         ┆ list[str]   ┆             ┆             ┆ str         │\n",
       "╞══════════════╪═════════════╪═════════════╪═════════════╪═════════════╪═════════════╪═════════════╡\n",
       "│ PMC8475362   ┆ SM0         ┆ Olympus     ┆ null        ┆ Then, all   ┆ 10.1186/s43 ┆ null        │\n",
       "│              ┆             ┆ CellSens    ┆             ┆ items were  ┆ 591-021-000 ┆             │\n",
       "│              ┆             ┆             ┆             ┆ photograp…  ┆ 17-9        ┆             │\n",
       "│ PMC8475362   ┆ SM1         ┆ OPUS        ┆ null        ┆ Spectra     ┆ 10.1186/s43 ┆ null        │\n",
       "│              ┆             ┆             ┆             ┆ were then   ┆ 591-021-000 ┆             │\n",
       "│              ┆             ┆             ┆             ┆ vector      ┆ 17-9        ┆             │\n",
       "│              ┆             ┆             ┆             ┆ norma…      ┆             ┆             │\n",
       "│ PMC8475362   ┆ SM2         ┆ R package   ┆ null        ┆ Model fit   ┆ 10.1186/s43 ┆ null        │\n",
       "│              ┆             ┆ DHARMa      ┆             ┆ was         ┆ 591-021-000 ┆             │\n",
       "│              ┆             ┆             ┆             ┆ assessed    ┆ 17-9        ┆             │\n",
       "│              ┆             ┆             ┆             ┆ through…    ┆             ┆             │\n",
       "│ PMC8475362   ┆ SM3         ┆ R           ┆ [null,      ┆ Analyses    ┆ 10.1186/s43 ┆ null        │\n",
       "│              ┆             ┆             ┆ null, … \"ht ┆ and         ┆ 591-021-000 ┆             │\n",
       "│              ┆             ┆             ┆ tps://githu ┆ plotting    ┆ 17-9        ┆             │\n",
       "│              ┆             ┆             ┆ b…          ┆ were per…   ┆             ┆             │\n",
       "│ PMC8475362   ┆ SM3         ┆ R           ┆ [null,      ┆ Analyses    ┆ 10.1186/s43 ┆ null        │\n",
       "│              ┆             ┆             ┆ null, … \"ht ┆ and         ┆ 591-021-000 ┆             │\n",
       "│              ┆             ┆             ┆ tps://githu ┆ plotting    ┆ 17-9        ┆             │\n",
       "│              ┆             ┆             ┆ b…          ┆ were per…   ┆             ┆             │\n",
       "│ …            ┆ …           ┆ …           ┆ …           ┆ …           ┆ …           ┆ …           │\n",
       "│ PMC6683272   ┆ SM53566     ┆ MetaVision  ┆ null        ┆ All data    ┆ 10.3390/nu1 ┆ null        │\n",
       "│              ┆             ┆             ┆             ┆ were        ┆ 1071443     ┆             │\n",
       "│              ┆             ┆             ┆             ┆ obtained by ┆             ┆             │\n",
       "│              ┆             ┆             ┆             ┆ revi…       ┆             ┆             │\n",
       "│ PMC6683272   ┆ SM4442      ┆ null        ┆ null        ┆ All data    ┆ 10.3390/nu1 ┆ null        │\n",
       "│              ┆             ┆             ┆             ┆ were        ┆ 1071443     ┆             │\n",
       "│              ┆             ┆             ┆             ┆ obtained by ┆             ┆             │\n",
       "│              ┆             ┆             ┆             ┆ revi…       ┆             ┆             │\n",
       "│ PMC6683272   ┆ SM53019     ┆ iMDsoft     ┆ null        ┆ All data    ┆ 10.3390/nu1 ┆ null        │\n",
       "│              ┆             ┆             ┆             ┆ were        ┆ 1071443     ┆             │\n",
       "│              ┆             ┆             ┆             ┆ obtained by ┆             ┆             │\n",
       "│              ┆             ┆             ┆             ┆ revi…       ┆             ┆             │\n",
       "│ PMC6683272   ┆ SM165       ┆ SPSS        ┆ [\"['http:// ┆ Statistical ┆ 10.3390/nu1 ┆ SCR_002865  │\n",
       "│              ┆             ┆             ┆ www-01.ibm. ┆ analysis    ┆ 1071443     ┆             │\n",
       "│              ┆             ┆             ┆ com/soft…   ┆ was perfo…  ┆             ┆             │\n",
       "│ PMC6683272   ┆ SM165       ┆ SPSS        ┆ [null,      ┆ Statistical ┆ 10.3390/nu1 ┆ null        │\n",
       "│              ┆             ┆             ┆ null, … \"ht ┆ analysis    ┆ 1071443     ┆             │\n",
       "│              ┆             ┆             ┆ tps://githu ┆ was perfo…  ┆             ┆             │\n",
       "│              ┆             ┆             ┆ b…          ┆             ┆             ┆             │\n",
       "└──────────────┴─────────────┴─────────────┴─────────────┴─────────────┴─────────────┴─────────────┘"
      ]
     },
     "execution_count": 10,
     "metadata": {},
     "output_type": "execute_result"
    }
   ],
   "source": [
    "stand_czi_df"
   ]
  },
  {
   "cell_type": "markdown",
   "id": "b2fb3227",
   "metadata": {},
   "source": [
    "## Comparing the processed datasets"
   ]
  },
  {
   "cell_type": "markdown",
   "id": "184800d8",
   "metadata": {},
   "source": [
    "Sanity check to see if the PMC addition to article_pmcid in the CZI dataset worked"
   ]
  },
  {
   "cell_type": "code",
   "execution_count": null,
   "id": "e0615dbd",
   "metadata": {},
   "outputs": [
    {
     "name": "stdout",
     "output_type": "stream",
     "text": [
      "CZI unique: 1,697,560\n",
      "PMC unique: 1,910,273\n",
      "Common PMCIDs: 1,316,205\n"
     ]
    }
   ],
   "source": [
    "czi_unique = stand_czi_df.select(\"article_pmcid\").unique().height\n",
    "pmc_unique = stand_kg_pmc_df.select(\"article_pmcid\").unique().height\n",
    "\n",
    "common_pmcids = (\n",
    "    stand_czi_df.select(\"article_pmcid\").unique()\n",
    "    .join(\n",
    "        stand_kg_pmc_df.select(\"article_pmcid\").unique(),\n",
    "        on=\"article_pmcid\",\n",
    "        how=\"inner\"\n",
    "    )\n",
    ")\n",
    "\n",
    "print(f\"CZI unique: {czi_unique:,}\")\n",
    "print(f\"PMC unique: {pmc_unique:,}\")\n",
    "print(f\"Common PMCIDs: {common_pmcids.height:,}\")"
   ]
  },
  {
   "cell_type": "markdown",
   "id": "3705b253",
   "metadata": {},
   "source": [
    "Group by paper (PMCID) to get unique software lists. \n",
    "> Are the software names the best to use for this?"
   ]
  },
  {
   "cell_type": "code",
   "execution_count": 12,
   "id": "a1dca508",
   "metadata": {},
   "outputs": [],
   "source": [
    "czi_grouped = (\n",
    "    stand_czi_df.group_by(\"article_pmcid\")\n",
    "    .agg(pl.col(\"top_software_name\").unique().alias(\"czi_software_list\"))\n",
    ")\n",
    "\n",
    "pmc_grouped = (\n",
    "    stand_kg_pmc_df.group_by(\"article_pmcid\")\n",
    "    .agg(pl.col(\"top_software_name\").unique().alias(\"pmc_software_list\"))\n",
    ")"
   ]
  },
  {
   "cell_type": "markdown",
   "id": "017eec54",
   "metadata": {},
   "source": [
    "### Comparing software counts per paper"
   ]
  },
  {
   "cell_type": "markdown",
   "id": "7e1001a2",
   "metadata": {},
   "source": [
    "Looking at the count of softwares per article for the two datasets"
   ]
  },
  {
   "cell_type": "code",
   "execution_count": 13,
   "id": "17301c18",
   "metadata": {},
   "outputs": [],
   "source": [
    "czi_grouped = czi_grouped.with_columns(\n",
    "    pl.col(\"czi_software_list\").list.len().cast(pl.Int64).alias(\"czi_software_count\")\n",
    ")\n",
    "\n",
    "pmc_grouped = pmc_grouped.with_columns(\n",
    "    pl.col(\"pmc_software_list\").list.len().cast(pl.Int64).alias(\"pmc_software_count\")\n",
    ")\n",
    "\n",
    "count_comparison = (\n",
    "    czi_grouped\n",
    "    .join(pmc_grouped, on=\"article_pmcid\", how=\"inner\")\n",
    "    .with_columns([\n",
    "        (pl.col(\"czi_software_count\").fill_null(0) -\n",
    "         pl.col(\"pmc_software_count\").fill_null(0)\n",
    "        ).alias(\"count_difference\")\n",
    "    ])\n",
    ")\n"
   ]
  },
  {
   "cell_type": "code",
   "execution_count": 14,
   "id": "7f24ed66",
   "metadata": {},
   "outputs": [
    {
     "data": {
      "text/html": [
       "<div><style>\n",
       ".dataframe > thead > tr,\n",
       ".dataframe > tbody > tr {\n",
       "  text-align: right;\n",
       "  white-space: pre-wrap;\n",
       "}\n",
       "</style>\n",
       "<small>shape: (9, 7)</small><table border=\"1\" class=\"dataframe\"><thead><tr><th>statistic</th><th>article_pmcid</th><th>czi_software_list</th><th>czi_software_count</th><th>pmc_software_list</th><th>pmc_software_count</th><th>count_difference</th></tr><tr><td>str</td><td>str</td><td>f64</td><td>f64</td><td>f64</td><td>f64</td><td>f64</td></tr></thead><tbody><tr><td>&quot;count&quot;</td><td>&quot;1316205&quot;</td><td>1.316205e6</td><td>1.316205e6</td><td>1.316205e6</td><td>1.316205e6</td><td>1.316205e6</td></tr><tr><td>&quot;null_count&quot;</td><td>&quot;0&quot;</td><td>0.0</td><td>0.0</td><td>0.0</td><td>0.0</td><td>0.0</td></tr><tr><td>&quot;mean&quot;</td><td>null</td><td>null</td><td>4.559104</td><td>null</td><td>4.1876</td><td>0.371504</td></tr><tr><td>&quot;std&quot;</td><td>null</td><td>null</td><td>5.065949</td><td>null</td><td>4.797891</td><td>1.844558</td></tr><tr><td>&quot;min&quot;</td><td>&quot;PMC1043860&quot;</td><td>null</td><td>1.0</td><td>null</td><td>1.0</td><td>-58.0</td></tr><tr><td>&quot;25%&quot;</td><td>null</td><td>null</td><td>2.0</td><td>null</td><td>1.0</td><td>0.0</td></tr><tr><td>&quot;50%&quot;</td><td>null</td><td>null</td><td>3.0</td><td>null</td><td>3.0</td><td>0.0</td></tr><tr><td>&quot;75%&quot;</td><td>null</td><td>null</td><td>6.0</td><td>null</td><td>5.0</td><td>1.0</td></tr><tr><td>&quot;max&quot;</td><td>&quot;PMC7814635&quot;</td><td>null</td><td>236.0</td><td>null</td><td>225.0</td><td>190.0</td></tr></tbody></table></div>"
      ],
      "text/plain": [
       "shape: (9, 7)\n",
       "┌────────────┬──────────────┬──────────────┬─────────────┬─────────────┬─────────────┬─────────────┐\n",
       "│ statistic  ┆ article_pmci ┆ czi_software ┆ czi_softwar ┆ pmc_softwar ┆ pmc_softwar ┆ count_diffe │\n",
       "│ ---        ┆ d            ┆ _list        ┆ e_count     ┆ e_list      ┆ e_count     ┆ rence       │\n",
       "│ str        ┆ ---          ┆ ---          ┆ ---         ┆ ---         ┆ ---         ┆ ---         │\n",
       "│            ┆ str          ┆ f64          ┆ f64         ┆ f64         ┆ f64         ┆ f64         │\n",
       "╞════════════╪══════════════╪══════════════╪═════════════╪═════════════╪═════════════╪═════════════╡\n",
       "│ count      ┆ 1316205      ┆ 1.316205e6   ┆ 1.316205e6  ┆ 1.316205e6  ┆ 1.316205e6  ┆ 1.316205e6  │\n",
       "│ null_count ┆ 0            ┆ 0.0          ┆ 0.0         ┆ 0.0         ┆ 0.0         ┆ 0.0         │\n",
       "│ mean       ┆ null         ┆ null         ┆ 4.559104    ┆ null        ┆ 4.1876      ┆ 0.371504    │\n",
       "│ std        ┆ null         ┆ null         ┆ 5.065949    ┆ null        ┆ 4.797891    ┆ 1.844558    │\n",
       "│ min        ┆ PMC1043860   ┆ null         ┆ 1.0         ┆ null        ┆ 1.0         ┆ -58.0       │\n",
       "│ 25%        ┆ null         ┆ null         ┆ 2.0         ┆ null        ┆ 1.0         ┆ 0.0         │\n",
       "│ 50%        ┆ null         ┆ null         ┆ 3.0         ┆ null        ┆ 3.0         ┆ 0.0         │\n",
       "│ 75%        ┆ null         ┆ null         ┆ 6.0         ┆ null        ┆ 5.0         ┆ 1.0         │\n",
       "│ max        ┆ PMC7814635   ┆ null         ┆ 236.0       ┆ null        ┆ 225.0       ┆ 190.0       │\n",
       "└────────────┴──────────────┴──────────────┴─────────────┴─────────────┴─────────────┴─────────────┘"
      ]
     },
     "execution_count": 14,
     "metadata": {},
     "output_type": "execute_result"
    }
   ],
   "source": [
    "count_comparison.describe()"
   ]
  },
  {
   "cell_type": "code",
   "execution_count": 15,
   "id": "ee1ca653",
   "metadata": {},
   "outputs": [
    {
     "name": "stderr",
     "output_type": "stream",
     "text": [
      "/var/folders/jf/2v02ryz57kgb880gsw0d304h0000gn/T/ipykernel_47674/3999931766.py:2: MatplotlibDeprecationWarning: The 'labels' parameter of boxplot() has been renamed 'tick_labels' since Matplotlib 3.9; support for the old name will be dropped in 3.11.\n",
      "  plt.boxplot(\n"
     ]
    },
    {
     "data": {
      "image/png": "[encoded data removed]",
      "text/plain": [
       "<Figure size 700x500 with 1 Axes>"
      ]
     },
     "metadata": {},
     "output_type": "display_data"
    }
   ],
   "source": [
    "plt.figure(figsize=(7, 5))\n",
    "plt.boxplot(\n",
    "    [\n",
    "        count_comparison[\"czi_software_count\"].to_list(),\n",
    "        count_comparison[\"pmc_software_count\"].to_list(),\n",
    "        count_comparison[\"count_difference\"].to_list()\n",
    "    ],\n",
    "    labels=[\"CZI software count\", \"PMC software count\", \"Count difference\"],\n",
    "    showmeans=True\n",
    ")\n",
    "plt.ylabel(\"Software mentions per paper\")\n",
    "plt.title(\"Distribution of software counts and differences\")\n",
    "plt.tight_layout()\n",
    "plt.show()\n"
   ]
  },
  {
   "cell_type": "code",
   "execution_count": 16,
   "id": "22727118",
   "metadata": {},
   "outputs": [
    {
     "name": "stdout",
     "output_type": "stream",
     "text": [
      "Papers with same counts: 586,707\n",
      "Papers where CZI > PMC: 461,012\n",
      "Papers where PMC > CZI: 268,486\n",
      "Maximum absolute difference: 190\n",
      "Average signed difference (CZI - PMC): 0.37\n",
      "Average absolute difference: 1.04\n",
      "On average, **CZI** captures more software mentions per paper.\n"
     ]
    }
   ],
   "source": [
    "same_count = count_comparison.filter(pl.col(\"count_difference\") == 0).height\n",
    "czi_more = count_comparison.filter(pl.col(\"count_difference\") > 0).height\n",
    "pmc_more = count_comparison.filter(pl.col(\"count_difference\") < 0).height\n",
    "max_diff = count_comparison.select(pl.col(\"count_difference\").abs().max()).item()\n",
    "avg_diff = count_comparison.select(pl.col(\"count_difference\").mean()).item()\n",
    "avg_abs_diff = (\n",
    "    count_comparison\n",
    "    .select(pl.col(\"count_difference\").abs().mean())\n",
    "    .item()\n",
    ")\n",
    "\n",
    "print(f\"Papers with same counts: {same_count:,}\")\n",
    "print(f\"Papers where CZI > PMC: {czi_more:,}\")\n",
    "print(f\"Papers where PMC > CZI: {pmc_more:,}\")\n",
    "print(f\"Maximum absolute difference: {max_diff}\")\n",
    "print(f\"Average signed difference (CZI - PMC): {avg_diff:.2f}\")\n",
    "print(f\"Average absolute difference: {avg_abs_diff:.2f}\")\n",
    "\n",
    "\n",
    "if avg_diff > 0:\n",
    "    print(\"On average, **CZI** captures more software mentions per paper.\")\n",
    "elif avg_diff < 0:\n",
    "    print(\"On average, **PMC** captures more software mentions per paper.\")\n",
    "else:\n",
    "    print(\"On average, they capture the same number of mentions.\")"
   ]
  },
  {
   "cell_type": "code",
   "execution_count": 17,
   "id": "a94f3257",
   "metadata": {},
   "outputs": [
    {
     "data": {
      "text/html": [
       "<div><style>\n",
       ".dataframe > thead > tr,\n",
       ".dataframe > tbody > tr {\n",
       "  text-align: right;\n",
       "  white-space: pre-wrap;\n",
       "}\n",
       "</style>\n",
       "<small>shape: (10, 7)</small><table border=\"1\" class=\"dataframe\"><thead><tr><th>article_pmcid</th><th>czi_software_list</th><th>czi_software_count</th><th>pmc_software_list</th><th>pmc_software_count</th><th>count_difference</th><th>abs_diff</th></tr><tr><td>str</td><td>list[str]</td><td>i64</td><td>list[str]</td><td>i64</td><td>i64</td><td>i64</td></tr></thead><tbody><tr><td>&quot;PMC7013036&quot;</td><td>[&quot;Phyloseq&quot;, &quot;Epi Info&quot;, … &quot;VINETTI&quot;]</td><td>231</td><td>[&quot;Dx Care&quot;, &quot;VEBER Benoit&quot;, … &quot;LAMIA&quot;]</td><td>41</td><td>190</td><td>190</td></tr><tr><td>&quot;PMC4714360&quot;</td><td>[&quot;PageBreakAndringitra&quot;, &quot;Adi-Ugri&quot;, … &quot;EOS Utility&quot;]</td><td>172</td><td>[&quot;EOS Utility&quot;, &quot;Photoshop&quot;, … &quot;ArcGIS&quot;]</td><td>5</td><td>167</td><td>167</td></tr><tr><td>&quot;PMC4868922&quot;</td><td>[&quot;PageBreakDei&quot;, &quot;MELL-MEZ&quot;, … &quot;GAL&quot;]</td><td>142</td><td>[&quot;- Stat&quot;, &quot;Compagnoni&quot;]</td><td>2</td><td>140</td><td>140</td></tr><tr><td>&quot;PMC3822444&quot;</td><td>[&quot;COSTA RICA,&quot;, &quot;tzutujil&quot;, … &quot;Alajuela ACA&quot;]</td><td>117</td><td>[&quot;Lucid Builder&quot;, &quot;BLAST&quot;, … &quot;Photoshop&quot;]</td><td>5</td><td>112</td><td>112</td></tr><tr><td>&quot;PMC3677352&quot;</td><td>[&quot;Morphbank85&quot;, &quot;Morphbank79&quot;, … &quot;Morphbank55&quot;]</td><td>89</td><td>[&quot;ROMEnt&quot;, &quot;Auto - Montage&quot;, … &quot;Zerene Stacker&quot;]</td><td>5</td><td>84</td><td>84</td></tr><tr><td>&quot;PMC6157254&quot;</td><td>[&quot;Portuguese Basis Graphogame&quot;, &quot;SCIELO&quot;, … &quot;Factors&quot;]</td><td>114</td><td>[&quot;IRAMUTEQ&quot;, &quot;MatLab&quot;, … &quot;ADAPTE&quot;]</td><td>36</td><td>78</td><td>78</td></tr><tr><td>&quot;PMC5534527&quot;</td><td>[&quot;PERU&quot;, &quot;BRAZIL&quot;, … &quot;Piste&quot;]</td><td>77</td><td>[&quot;GRENADA&quot;, &quot;BLAST&quot;, … &quot;Arrow&quot;]</td><td>4</td><td>73</td><td>73</td></tr><tr><td>&quot;PMC7525076&quot;</td><td>[&quot;Mapping&quot;, &quot;Implementation Game© (TIG&quot;, … &quot;Visual&quot;]</td><td>90</td><td>[&quot;VA Cardiovascular Toolkit&quot;, &quot;PROCESS&quot;, … &quot;StepCare&quot;]</td><td>25</td><td>65</td><td>65</td></tr><tr><td>&quot;PMC7298354&quot;</td><td>[&quot;SEInet&quot;, &quot;NICARAGUA&quot;, … &quot;Plowman&quot;]</td><td>65</td><td>[&quot;Reyes&quot;, &quot;Macintosh&quot;]</td><td>2</td><td>63</td><td>63</td></tr><tr><td>&quot;PMC7177427&quot;</td><td>[&quot;CoughDropc&quot;, &quot;LetMeTalk&quot;, … &quot;Visual Expressc&quot;]</td><td>85</td><td>[&quot;Play&quot;, &quot;SoundingBoard&quot;, … &quot;CommunicoTool&quot;]</td><td>22</td><td>63</td><td>63</td></tr></tbody></table></div>"
      ],
      "text/plain": [
       "shape: (10, 7)\n",
       "┌──────────────┬──────────────┬──────────────┬──────────────┬─────────────┬─────────────┬──────────┐\n",
       "│ article_pmci ┆ czi_software ┆ czi_software ┆ pmc_software ┆ pmc_softwar ┆ count_diffe ┆ abs_diff │\n",
       "│ d            ┆ _list        ┆ _count       ┆ _list        ┆ e_count     ┆ rence       ┆ ---      │\n",
       "│ ---          ┆ ---          ┆ ---          ┆ ---          ┆ ---         ┆ ---         ┆ i64      │\n",
       "│ str          ┆ list[str]    ┆ i64          ┆ list[str]    ┆ i64         ┆ i64         ┆          │\n",
       "╞══════════════╪══════════════╪══════════════╪══════════════╪═════════════╪═════════════╪══════════╡\n",
       "│ PMC7013036   ┆ [\"Phyloseq\", ┆ 231          ┆ [\"Dx Care\",  ┆ 41          ┆ 190         ┆ 190      │\n",
       "│              ┆ \"Epi Info\",  ┆              ┆ \"VEBER       ┆             ┆             ┆          │\n",
       "│              ┆ … \"VI…       ┆              ┆ Benoit\", … … ┆             ┆             ┆          │\n",
       "│ PMC4714360   ┆ [\"PageBreakA ┆ 172          ┆ [\"EOS        ┆ 5           ┆ 167         ┆ 167      │\n",
       "│              ┆ ndringitra\", ┆              ┆ Utility\",    ┆             ┆             ┆          │\n",
       "│              ┆ \"Adi-…       ┆              ┆ \"Photoshop\", ┆             ┆             ┆          │\n",
       "│              ┆              ┆              ┆ ……           ┆             ┆             ┆          │\n",
       "│ PMC4868922   ┆ [\"PageBreakD ┆ 142          ┆ [\"- Stat\",   ┆ 2           ┆ 140         ┆ 140      │\n",
       "│              ┆ ei\",         ┆              ┆ \"Compagnoni\" ┆             ┆             ┆          │\n",
       "│              ┆ \"MELL-MEZ\",  ┆              ┆ ]            ┆             ┆             ┆          │\n",
       "│              ┆ ……           ┆              ┆              ┆             ┆             ┆          │\n",
       "│ PMC3822444   ┆ [\"COSTA      ┆ 117          ┆ [\"Lucid      ┆ 5           ┆ 112         ┆ 112      │\n",
       "│              ┆ RICA,\",      ┆              ┆ Builder\",    ┆             ┆             ┆          │\n",
       "│              ┆ \"tzutujil\",  ┆              ┆ \"BLAST\", …   ┆             ┆             ┆          │\n",
       "│              ┆ … …          ┆              ┆ \"…           ┆             ┆             ┆          │\n",
       "│ PMC3677352   ┆ [\"Morphbank8 ┆ 89           ┆ [\"ROMEnt\",   ┆ 5           ┆ 84          ┆ 84       │\n",
       "│              ┆ 5\", \"Morphba ┆              ┆ \"Auto -      ┆             ┆             ┆          │\n",
       "│              ┆ nk79\",…      ┆              ┆ Montage\", …… ┆             ┆             ┆          │\n",
       "│ PMC6157254   ┆ [\"Portuguese ┆ 114          ┆ [\"IRAMUTEQ\", ┆ 36          ┆ 78          ┆ 78       │\n",
       "│              ┆ Basis        ┆              ┆ \"MatLab\", …  ┆             ┆             ┆          │\n",
       "│              ┆ Graphogame\"… ┆              ┆ \"ADAP…       ┆             ┆             ┆          │\n",
       "│ PMC5534527   ┆ [\"PERU\",     ┆ 77           ┆ [\"GRENADA\",  ┆ 4           ┆ 73          ┆ 73       │\n",
       "│              ┆ \"BRAZIL\", …  ┆              ┆ \"BLAST\", …   ┆             ┆             ┆          │\n",
       "│              ┆ \"Piste\"]     ┆              ┆ \"Arrow\"…     ┆             ┆             ┆          │\n",
       "│ PMC7525076   ┆ [\"Mapping\",  ┆ 90           ┆ [\"VA Cardiov ┆ 25          ┆ 65          ┆ 65       │\n",
       "│              ┆ \"Implementat ┆              ┆ ascular      ┆             ┆             ┆          │\n",
       "│              ┆ ion Ga…      ┆              ┆ Toolkit\", …  ┆             ┆             ┆          │\n",
       "│ PMC7298354   ┆ [\"SEInet\",   ┆ 65           ┆ [\"Reyes\",    ┆ 2           ┆ 63          ┆ 63       │\n",
       "│              ┆ \"NICARAGUA\", ┆              ┆ \"Macintosh\"] ┆             ┆             ┆          │\n",
       "│              ┆ … \"Plo…      ┆              ┆              ┆             ┆             ┆          │\n",
       "│ PMC7177427   ┆ [\"CoughDropc ┆ 85           ┆ [\"Play\", \"So ┆ 22          ┆ 63          ┆ 63       │\n",
       "│              ┆ \",           ┆              ┆ undingBoard\" ┆             ┆             ┆          │\n",
       "│              ┆ \"LetMeTalk\", ┆              ┆ , … \"C…      ┆             ┆             ┆          │\n",
       "│              ┆ … …          ┆              ┆              ┆             ┆             ┆          │\n",
       "└──────────────┴──────────────┴──────────────┴──────────────┴─────────────┴─────────────┴──────────┘"
      ]
     },
     "execution_count": 17,
     "metadata": {},
     "output_type": "execute_result"
    }
   ],
   "source": [
    "\n",
    "nr_top_differing_papers = 10 # how many to display\n",
    "count_comparison.with_columns(pl.col(\"count_difference\").abs().alias(\"abs_diff\")).sort(\"abs_diff\", descending=True).head(nr_top_differing_papers)"
   ]
  },
  {
   "cell_type": "markdown",
   "id": "2e12a8ba",
   "metadata": {},
   "source": [
    "Row tree in this shows that CZI has picked up a lot of things that are not software mentions: [*Litteratura Coleopterologica (1758–1900): a guide to selected books related to the taxonomy of Coleoptera with publication dates and notes*](https://pmc.ncbi.nlm.nih.gov/articles/PMC4868922/#sec9)\n"
   ]
  },
  {
   "cell_type": "markdown",
   "id": "cd99a3c0",
   "metadata": {},
   "source": [
    "### Comparing what softwares are mentioned in each"
   ]
  },
  {
   "cell_type": "markdown",
   "id": "904b3cfb",
   "metadata": {},
   "source": [
    "#### Unique software names per dataset"
   ]
  },
  {
   "cell_type": "markdown",
   "id": "0b0ee93a",
   "metadata": {},
   "source": [
    "Finding all unique software names for each dataset - with capitalisation and lowercase"
   ]
  },
  {
   "cell_type": "code",
   "execution_count": 33,
   "id": "cd2aa98e",
   "metadata": {},
   "outputs": [
    {
     "name": "stdout",
     "output_type": "stream",
     "text": [
      "CZI unique software: 1,117,955\n",
      "PMC unique software: 589,145\n",
      "Shared software names: 304,388\n"
     ]
    }
   ],
   "source": [
    "czi_unique = (\n",
    "    stand_czi_df.select(\"top_software_name\").unique().drop_nulls()\n",
    ")\n",
    "pmc_unique = (\n",
    "    stand_kg_pmc_df.select(\"top_software_name\").unique().drop_nulls()\n",
    ")\n",
    "\n",
    "czi_count = czi_unique.height\n",
    "pmc_count = pmc_unique.height\n",
    "\n",
    "software_intersection = czi_unique.join(\n",
    "    pmc_unique, on=\"top_software_name\", how=\"inner\"\n",
    ")\n",
    "intersection_count = software_intersection.height\n",
    "\n",
    "print(f\"CZI unique software: {czi_count:,}\")\n",
    "print(f\"PMC unique software: {pmc_count:,}\")\n",
    "print(f\"Shared software names: {intersection_count:,}\")"
   ]
  },
  {
   "cell_type": "code",
   "execution_count": 32,
   "id": "5689fd41",
   "metadata": {},
   "outputs": [
    {
     "name": "stdout",
     "output_type": "stream",
     "text": [
      "CZI unique software (lowercase): 946,223\n",
      "PMC unique software (lowercase): 501,182\n",
      "Shared software names (lowercase): 259,921\n"
     ]
    }
   ],
   "source": [
    "czi_unique_lower = (\n",
    "    czi_unique.with_columns(\n",
    "        pl.col(\"top_software_name\").str.to_lowercase().alias(\"top_software_name_lower\")\n",
    "    ).select(\"top_software_name_lower\").unique()\n",
    ")\n",
    "pmc_unique_lower = (\n",
    "    pmc_unique.with_columns(\n",
    "        pl.col(\"top_software_name\").str.to_lowercase().alias(\"top_software_name_lower\")\n",
    "    ).select(\"top_software_name_lower\").unique()\n",
    ")\n",
    "\n",
    "czi_count_lower = czi_unique_lower.height\n",
    "pmc_count_lower = pmc_unique_lower.height\n",
    "\n",
    "software_intersection = czi_unique_lower.join(\n",
    "    pmc_unique_lower, on=\"top_software_name_lower\", how=\"inner\"\n",
    ")\n",
    "intersection_count = software_intersection.height\n",
    "\n",
    "print(f\"CZI unique software (lowercase): {czi_count_lower:,}\")\n",
    "print(f\"PMC unique software (lowercase): {pmc_count_lower:,}\")\n",
    "print(f\"Shared software names (lowercase): {intersection_count:,}\")"
   ]
  },
  {
   "cell_type": "markdown",
   "id": "f524068d",
   "metadata": {},
   "source": [
    "#### Comparing differences of mentioned software in the same paper accross datasets"
   ]
  },
  {
   "cell_type": "markdown",
   "id": "a777f3bf",
   "metadata": {},
   "source": [
    "Making the softwarenames lowercase in case they are different accross the datasets\n",
    "> Could this be less accurate than maintaining the capitalisation? "
   ]
  },
  {
   "cell_type": "code",
   "execution_count": null,
   "id": "207af787",
   "metadata": {},
   "outputs": [],
   "source": [
    "count_comparison = count_comparison.with_columns([\n",
    "    pl.col(\"czi_software_list\")\n",
    "      .list.eval(pl.element().str.to_lowercase())\n",
    "      .alias(\"czi_software_list_lower\"),\n",
    "\n",
    "    pl.col(\"pmc_software_list\")\n",
    "      .list.eval(pl.element().str.to_lowercase())\n",
    "      .alias(\"pmc_software_list_lower\")\n",
    "])\n",
    "\n"
   ]
  },
  {
   "cell_type": "markdown",
   "id": "a66ebc85",
   "metadata": {},
   "source": [
    "Creating 3 new columns, from the papers which had an equal number of identified software across the two datasets, namely; \n",
    "- software only identified by CZI\n",
    "- software only identified by KG PMC\n",
    "- software identified by both"
   ]
  },
  {
   "cell_type": "markdown",
   "id": "f4edf754",
   "metadata": {},
   "source": [
    ">This is not done very efficiently so it takes a few minutes:"
   ]
  },
  {
   "cell_type": "code",
   "execution_count": null,
   "id": "4405cc16",
   "metadata": {},
   "outputs": [],
   "source": [
    "same_count_papers = count_comparison.filter(pl.col(\"count_difference\") == 0)\n",
    "\n",
    "same_count_papers = same_count_papers.with_columns([\n",
    "    pl.col(\"czi_software_list_lower\").list.set_difference(pl.col(\"pmc_software_list_lower\")).alias(\"only_in_czi\"),\n",
    "    pl.col(\"pmc_software_list_lower\").list.set_difference(pl.col(\"czi_software_list_lower\")).alias(\"only_in_kg_pmc\"),\n",
    "    pl.col(\"czi_software_list_lower\").list.set_intersection(pl.col(\"pmc_software_list_lower\")).alias(\"shared_software\")\n",
    "])\n"
   ]
  },
  {
   "cell_type": "code",
   "execution_count": 22,
   "id": "5132f1ca",
   "metadata": {},
   "outputs": [
    {
     "data": {
      "text/html": [
       "<div><style>\n",
       ".dataframe > thead > tr,\n",
       ".dataframe > tbody > tr {\n",
       "  text-align: right;\n",
       "  white-space: pre-wrap;\n",
       "}\n",
       "</style>\n",
       "<small>shape: (586_707, 3)</small><table border=\"1\" class=\"dataframe\"><thead><tr><th>shared_software</th><th>only_in_kg_pmc</th><th>only_in_czi</th></tr><tr><td>list[str]</td><td>list[str]</td><td>list[str]</td></tr></thead><tbody><tr><td>[&quot;RACEarray&quot;, &quot;Dotter&quot;, … &quot;RACEfrag&quot;]</td><td>[&quot;gfServer&quot;, &quot;TAS&quot;, … &quot;gfClient&quot;]</td><td>[&quot;Ensembl&quot;, &quot;RACEarray simulator&quot;, … &quot;5C&quot;]</td></tr><tr><td>[]</td><td>[&quot;Prisim&quot;]</td><td>[&quot;GraphPad Prisim-5&quot;]</td></tr><tr><td>[&quot;R&quot;]</td><td>[]</td><td>[]</td></tr><tr><td>[&quot;PASW&quot;]</td><td>[]</td><td>[]</td></tr><tr><td>[&quot;NutriGrade&quot;]</td><td>[&quot;ROBINS&quot;, &quot;Stata&quot;, … &quot;Cochrane&quot;]</td><td>[&quot;STATA&quot;, &quot;Cochrane Risk of bias in Non-randomized Studies of Interventions (ROBINS-I)&quot;, … &quot;Grading of Recommendations Assessment, Development and Evaluations (GRADE)&quot;]</td></tr><tr><td>&hellip;</td><td>&hellip;</td><td>&hellip;</td></tr><tr><td>[&quot;Stata&quot;, &quot;UKMidSS&quot;]</td><td>[]</td><td>[]</td></tr><tr><td>[&quot;SPSS&quot;]</td><td>[]</td><td>[]</td></tr><tr><td>[&quot;MarVis Filter&quot;, &quot;XCMX&quot;, … &quot;Masslynx&quot;]</td><td>[&quot;Statgraphics&quot;]</td><td>[&quot;Statgraphics Plus&quot;]</td></tr><tr><td>[&quot;ImageJ&quot;]</td><td>[&quot;Prism&quot;]</td><td>[&quot;GraphPad Prism&quot;]</td></tr><tr><td>[&quot;SPSS&quot;]</td><td>[&quot;Stata&quot;]</td><td>[&quot;STATA&quot;]</td></tr></tbody></table></div>"
      ],
      "text/plain": [
       "shape: (586_707, 3)\n",
       "┌─────────────────────────────┬──────────────────────────────────┬─────────────────────────────────┐\n",
       "│ shared_software             ┆ only_in_kg_pmc                   ┆ only_in_czi                     │\n",
       "│ ---                         ┆ ---                              ┆ ---                             │\n",
       "│ list[str]                   ┆ list[str]                        ┆ list[str]                       │\n",
       "╞═════════════════════════════╪══════════════════════════════════╪═════════════════════════════════╡\n",
       "│ [\"RACEarray\", \"Dotter\", …   ┆ [\"gfServer\", \"TAS\", … \"gfClien…  ┆ [\"Ensembl\", \"RACEarray simulat… │\n",
       "│ \"RAC…                       ┆                                  ┆                                 │\n",
       "│ []                          ┆ [\"Prisim\"]                       ┆ [\"GraphPad Prisim-5\"]           │\n",
       "│ [\"R\"]                       ┆ []                               ┆ []                              │\n",
       "│ [\"PASW\"]                    ┆ []                               ┆ []                              │\n",
       "│ [\"NutriGrade\"]              ┆ [\"ROBINS\", \"Stata\", … \"Cochran…  ┆ [\"STATA\", \"Cochrane Risk of bi… │\n",
       "│ …                           ┆ …                                ┆ …                               │\n",
       "│ [\"Stata\", \"UKMidSS\"]        ┆ []                               ┆ []                              │\n",
       "│ [\"SPSS\"]                    ┆ []                               ┆ []                              │\n",
       "│ [\"MarVis Filter\", \"XCMX\", … ┆ [\"Statgraphics\"]                 ┆ [\"Statgraphics Plus\"]           │\n",
       "│ \"M…                         ┆                                  ┆                                 │\n",
       "│ [\"ImageJ\"]                  ┆ [\"Prism\"]                        ┆ [\"GraphPad Prism\"]              │\n",
       "│ [\"SPSS\"]                    ┆ [\"Stata\"]                        ┆ [\"STATA\"]                       │\n",
       "└─────────────────────────────┴──────────────────────────────────┴─────────────────────────────────┘"
      ]
     },
     "execution_count": 22,
     "metadata": {},
     "output_type": "execute_result"
    }
   ],
   "source": [
    "same_count_papers[\"shared_software\", \"only_in_kg_pmc\", \"only_in_czi\"]"
   ]
  },
  {
   "cell_type": "markdown",
   "id": "ad31073d",
   "metadata": {},
   "source": [
    "The number of papers where both only_in_czi and only_in_kg_pmc are empty is the number of times both datasets agreed perfectly on the software mentioned (same count and same exact software names). At least in theory."
   ]
  },
  {
   "cell_type": "code",
   "execution_count": 42,
   "id": "256b2f76",
   "metadata": {},
   "outputs": [
    {
     "name": "stdout",
     "output_type": "stream",
     "text": [
      "Papers where both datasets agreed exactly on software mentioned: 245,301; compared to the number of common PMCIDs: 1,316,205 (0.18636990438419548)\n"
     ]
    }
   ],
   "source": [
    "nr_perfect_agreement = (\n",
    "    same_count_papers\n",
    "    .filter(\n",
    "        (pl.col(\"only_in_czi\").list.len() == 0) &\n",
    "        (pl.col(\"only_in_kg_pmc\").list.len() == 0)\n",
    "    )\n",
    "    .height\n",
    ")\n",
    "\n",
    "print(f\"Papers where both datasets agreed exactly on software mentioned: {nr_perfect_agreement:,}; compared to the number of common PMCIDs: {common_pmcids.height:,} ({nr_perfect_agreement/common_pmcids.height})\")"
   ]
  },
  {
   "cell_type": "markdown",
   "id": "81a26d1f",
   "metadata": {},
   "source": [
    "### Comparing ..."
   ]
  }
 ],
 "metadata": {
  "kernelspec": {
   "display_name": "track1",
   "language": "python",
   "name": "python3"
  },
  "language_info": {
   "codemirror_mode": {
    "name": "ipython",
    "version": 3
   },
   "file_extension": ".py",
   "mimetype": "text/x-python",
   "name": "python",
   "nbconvert_exporter": "python",
   "pygments_lexer": "ipython3",
   "version": "3.9.6"
  }
 },
 "nbformat": 4,
 "nbformat_minor": 5
}
