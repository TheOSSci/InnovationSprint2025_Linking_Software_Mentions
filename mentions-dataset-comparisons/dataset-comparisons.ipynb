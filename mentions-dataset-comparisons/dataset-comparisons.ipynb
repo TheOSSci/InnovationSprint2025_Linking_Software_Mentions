{
 "cells": [
  {
   "cell_type": "markdown",
   "id": "8c27c449",
   "metadata": {},
   "source": [
    "# Comparing datasets"
   ]
  },
  {
   "cell_type": "markdown",
   "id": "4f1a6e86",
   "metadata": {},
   "source": []
  },
  {
   "cell_type": "code",
   "execution_count": 3,
   "id": "97b796ff",
   "metadata": {},
   "outputs": [],
   "source": [
    "import polars as pl"
   ]
  },
  {
   "cell_type": "code",
   "execution_count": 35,
   "id": "45694580",
   "metadata": {},
   "outputs": [],
   "source": [
    "ROOT_DATA_DIR = \"../data/\"\n",
    "\n",
    "czi_df = pl.read_parquet(ROOT_DATA_DIR + \"CZI/processed-CZI-dataset.parquet\")\n",
    "\n",
    "kg_pmc_df = pl.read_parquet(ROOT_DATA_DIR + \"software-kg-pmc/processed-pmc-kg-dataset.parquet\")\n"
   ]
  },
  {
   "cell_type": "markdown",
   "id": "36b050ec",
   "metadata": {},
   "source": [
    "## Standardising the processed datasets"
   ]
  },
  {
   "cell_type": "code",
   "execution_count": 36,
   "id": "b706cb72",
   "metadata": {},
   "outputs": [
    {
     "data": {
      "text/html": [
       "<div><style>\n",
       ".dataframe > thead > tr,\n",
       ".dataframe > tbody > tr {\n",
       "  text-align: right;\n",
       "  white-space: pre-wrap;\n",
       "}\n",
       "</style>\n",
       "<small>shape: (9, 8)</small><table border=\"1\" class=\"dataframe\"><thead><tr><th>statistic</th><th>article_doi</th><th>software_id_CZI</th><th>software_rrid</th><th>software_name</th><th>software_url</th><th>context</th><th>article_pmcid</th></tr><tr><td>str</td><td>str</td><td>str</td><td>str</td><td>str</td><td>f64</td><td>str</td><td>f64</td></tr></thead><tbody><tr><td>&quot;count&quot;</td><td>&quot;16056698&quot;</td><td>&quot;16158993&quot;</td><td>&quot;4223665&quot;</td><td>&quot;16153163&quot;</td><td>9.46531e6</td><td>&quot;16158993&quot;</td><td>1.6158993e7</td></tr><tr><td>&quot;null_count&quot;</td><td>&quot;102295&quot;</td><td>&quot;0&quot;</td><td>&quot;11935328&quot;</td><td>&quot;5830&quot;</td><td>6.693683e6</td><td>&quot;0&quot;</td><td>0.0</td></tr><tr><td>&quot;mean&quot;</td><td>null</td><td>null</td><td>null</td><td>null</td><td>null</td><td>null</td><td>5.9125e6</td></tr><tr><td>&quot;std&quot;</td><td>null</td><td>null</td><td>null</td><td>null</td><td>null</td><td>null</td><td>1.7347e6</td></tr><tr><td>&quot;min&quot;</td><td>&quot; 10.1186/1477-5956-10-26&quot;</td><td>&quot;SM0&quot;</td><td>&quot;SCR_000004&quot;</td><td>&quot; MGA&quot;</td><td>null</td><td>&quot; # 198 genes mapped to this te…</td><td>176545.0</td></tr><tr><td>&quot;25%&quot;</td><td>null</td><td>null</td><td>null</td><td>null</td><td>null</td><td>null</td><td>4.540975e6</td></tr><tr><td>&quot;50%&quot;</td><td>null</td><td>null</td><td>null</td><td>null</td><td>null</td><td>null</td><td>6.126143e6</td></tr><tr><td>&quot;75%&quot;</td><td>null</td><td>null</td><td>null</td><td>null</td><td>null</td><td>null</td><td>7.415876e6</td></tr><tr><td>&quot;max&quot;</td><td>&quot;10.9745/GHSP-D-21-00144&quot;</td><td>&quot;SM999999&quot;</td><td>&quot;SCR_021924&quot;</td><td>&quot;鼠源及人源化BCMA CAR-T的转染效率&quot;</td><td>null</td><td>&quot;𝜀c regressions and comparisons…</td><td>8.51084e6</td></tr></tbody></table></div>"
      ],
      "text/plain": [
       "shape: (9, 8)\n",
       "┌────────────┬────────────┬────────────┬───────────┬───────────┬───────────┬───────────┬───────────┐\n",
       "│ statistic  ┆ article_do ┆ software_i ┆ software_ ┆ software_ ┆ software_ ┆ context   ┆ article_p │\n",
       "│ ---        ┆ i          ┆ d_CZI      ┆ rrid      ┆ name      ┆ url       ┆ ---       ┆ mcid      │\n",
       "│ str        ┆ ---        ┆ ---        ┆ ---       ┆ ---       ┆ ---       ┆ str       ┆ ---       │\n",
       "│            ┆ str        ┆ str        ┆ str       ┆ str       ┆ f64       ┆           ┆ f64       │\n",
       "╞════════════╪════════════╪════════════╪═══════════╪═══════════╪═══════════╪═══════════╪═══════════╡\n",
       "│ count      ┆ 16056698   ┆ 16158993   ┆ 4223665   ┆ 16153163  ┆ 9.46531e6 ┆ 16158993  ┆ 1.6158993 │\n",
       "│            ┆            ┆            ┆           ┆           ┆           ┆           ┆ e7        │\n",
       "│ null_count ┆ 102295     ┆ 0          ┆ 11935328  ┆ 5830      ┆ 6.693683e ┆ 0         ┆ 0.0       │\n",
       "│            ┆            ┆            ┆           ┆           ┆ 6         ┆           ┆           │\n",
       "│ mean       ┆ null       ┆ null       ┆ null      ┆ null      ┆ null      ┆ null      ┆ 5.9125e6  │\n",
       "│ std        ┆ null       ┆ null       ┆ null      ┆ null      ┆ null      ┆ null      ┆ 1.7347e6  │\n",
       "│ min        ┆ 10.1186/14 ┆ SM0        ┆ SCR_00000 ┆  MGA      ┆ null      ┆ # 198     ┆ 176545.0  │\n",
       "│            ┆ 77-5956-10 ┆            ┆ 4         ┆           ┆           ┆ genes     ┆           │\n",
       "│            ┆ -26        ┆            ┆           ┆           ┆           ┆ mapped to ┆           │\n",
       "│            ┆            ┆            ┆           ┆           ┆           ┆ this te…  ┆           │\n",
       "│ 25%        ┆ null       ┆ null       ┆ null      ┆ null      ┆ null      ┆ null      ┆ 4.540975e │\n",
       "│            ┆            ┆            ┆           ┆           ┆           ┆           ┆ 6         │\n",
       "│ 50%        ┆ null       ┆ null       ┆ null      ┆ null      ┆ null      ┆ null      ┆ 6.126143e │\n",
       "│            ┆            ┆            ┆           ┆           ┆           ┆           ┆ 6         │\n",
       "│ 75%        ┆ null       ┆ null       ┆ null      ┆ null      ┆ null      ┆ null      ┆ 7.415876e │\n",
       "│            ┆            ┆            ┆           ┆           ┆           ┆           ┆ 6         │\n",
       "│ max        ┆ 10.9745/GH ┆ SM999999   ┆ SCR_02192 ┆ 鼠源及人  ┆ null      ┆ 𝜀c regres ┆ 8.51084e6 │\n",
       "│            ┆ SP-D-21-00 ┆            ┆ 4         ┆ 源化BCMA  ┆           ┆ sions and ┆           │\n",
       "│            ┆ 144        ┆            ┆           ┆ CAR-T的转 ┆           ┆ compariso ┆           │\n",
       "│            ┆            ┆            ┆           ┆ 染效率    ┆           ┆ ns…       ┆           │\n",
       "└────────────┴────────────┴────────────┴───────────┴───────────┴───────────┴───────────┴───────────┘"
      ]
     },
     "execution_count": 36,
     "metadata": {},
     "output_type": "execute_result"
    }
   ],
   "source": [
    "czi_df.describe()"
   ]
  },
  {
   "cell_type": "code",
   "execution_count": 37,
   "id": "cba32a68",
   "metadata": {},
   "outputs": [
    {
     "data": {
      "text/html": [
       "<div><style>\n",
       ".dataframe > thead > tr,\n",
       ".dataframe > tbody > tr {\n",
       "  text-align: right;\n",
       "  white-space: pre-wrap;\n",
       "}\n",
       "</style>\n",
       "<small>shape: (9, 7)</small><table border=\"1\" class=\"dataframe\"><thead><tr><th>statistic</th><th>article_id</th><th>software_id</th><th>top_software_name</th><th>all_software_names</th><th>software_url</th><th>mention_types</th></tr><tr><td>str</td><td>str</td><td>f64</td><td>str</td><td>str</td><td>str</td><td>str</td></tr></thead><tbody><tr><td>&quot;count&quot;</td><td>&quot;7466923&quot;</td><td>7.466923e6</td><td>&quot;7466923&quot;</td><td>&quot;7466923&quot;</td><td>&quot;550716&quot;</td><td>&quot;7466923&quot;</td></tr><tr><td>&quot;null_count&quot;</td><td>&quot;0&quot;</td><td>0.0</td><td>&quot;0&quot;</td><td>&quot;0&quot;</td><td>&quot;6916207&quot;</td><td>&quot;0&quot;</td></tr><tr><td>&quot;mean&quot;</td><td>null</td><td>1.4902e6</td><td>null</td><td>null</td><td>null</td><td>null</td></tr><tr><td>&quot;std&quot;</td><td>null</td><td>141624.705752</td><td>null</td><td>null</td><td>null</td><td>null</td></tr><tr><td>&quot;min&quot;</td><td>&quot;Eur_J_Neurosci_2015_Nov_6_42(1…</td><td>25.0</td><td>&quot;!&quot;</td><td>&quot;!&quot;</td><td>&quot;&quot;</td><td>&quot;Creation&quot;</td></tr><tr><td>&quot;25%&quot;</td><td>null</td><td>1.476301e6</td><td>null</td><td>null</td><td>null</td><td>null</td></tr><tr><td>&quot;50%&quot;</td><td>null</td><td>1.482531e6</td><td>null</td><td>null</td><td>null</td><td>null</td></tr><tr><td>&quot;75%&quot;</td><td>null</td><td>1.513869e6</td><td>null</td><td>null</td><td>null</td><td>null</td></tr><tr><td>&quot;max&quot;</td><td>&quot;PMC99051&quot;</td><td>1.778958e6</td><td>&quot;⋆&quot;</td><td>&quot;⋆&quot;</td><td>&quot;∼/pyneal/pyneal_scanner&quot;</td><td>&quot;Usage; Mention; Deposition; Cr…</td></tr></tbody></table></div>"
      ],
      "text/plain": [
       "shape: (9, 7)\n",
       "┌────────────┬──────────────┬──────────────┬─────────────┬─────────────┬─────────────┬─────────────┐\n",
       "│ statistic  ┆ article_id   ┆ software_id  ┆ top_softwar ┆ all_softwar ┆ software_ur ┆ mention_typ │\n",
       "│ ---        ┆ ---          ┆ ---          ┆ e_name      ┆ e_names     ┆ l           ┆ es          │\n",
       "│ str        ┆ str          ┆ f64          ┆ ---         ┆ ---         ┆ ---         ┆ ---         │\n",
       "│            ┆              ┆              ┆ str         ┆ str         ┆ str         ┆ str         │\n",
       "╞════════════╪══════════════╪══════════════╪═════════════╪═════════════╪═════════════╪═════════════╡\n",
       "│ count      ┆ 7466923      ┆ 7.466923e6   ┆ 7466923     ┆ 7466923     ┆ 550716      ┆ 7466923     │\n",
       "│ null_count ┆ 0            ┆ 0.0          ┆ 0           ┆ 0           ┆ 6916207     ┆ 0           │\n",
       "│ mean       ┆ null         ┆ 1.4902e6     ┆ null        ┆ null        ┆ null        ┆ null        │\n",
       "│ std        ┆ null         ┆ 141624.70575 ┆ null        ┆ null        ┆ null        ┆ null        │\n",
       "│            ┆              ┆ 2            ┆             ┆             ┆             ┆             │\n",
       "│ min        ┆ Eur_J_Neuros ┆ 25.0         ┆ !           ┆ !           ┆             ┆ Creation    │\n",
       "│            ┆ ci_2015_Nov_ ┆              ┆             ┆             ┆             ┆             │\n",
       "│            ┆ 6_42(1…      ┆              ┆             ┆             ┆             ┆             │\n",
       "│ 25%        ┆ null         ┆ 1.476301e6   ┆ null        ┆ null        ┆ null        ┆ null        │\n",
       "│ 50%        ┆ null         ┆ 1.482531e6   ┆ null        ┆ null        ┆ null        ┆ null        │\n",
       "│ 75%        ┆ null         ┆ 1.513869e6   ┆ null        ┆ null        ┆ null        ┆ null        │\n",
       "│ max        ┆ PMC99051     ┆ 1.778958e6   ┆ ⋆           ┆ ⋆           ┆ ∼/pyneal/py ┆ Usage;      │\n",
       "│            ┆              ┆              ┆             ┆             ┆ neal_scanne ┆ Mention;    │\n",
       "│            ┆              ┆              ┆             ┆             ┆ r           ┆ Deposition; │\n",
       "│            ┆              ┆              ┆             ┆             ┆             ┆ Cr…         │\n",
       "└────────────┴──────────────┴──────────────┴─────────────┴─────────────┴─────────────┴─────────────┘"
      ]
     },
     "execution_count": 37,
     "metadata": {},
     "output_type": "execute_result"
    }
   ],
   "source": [
    "kg_pmc_df.describe()"
   ]
  },
  {
   "cell_type": "markdown",
   "id": "a23a8186",
   "metadata": {},
   "source": [
    "### Standardising naming and type"
   ]
  },
  {
   "cell_type": "code",
   "execution_count": null,
   "id": "c1e3458e",
   "metadata": {},
   "outputs": [],
   "source": [
    "kg_pmc_df = (\n",
    "    kg_pmc_df.rename(\n",
    "        {\"article_id\": \"article_pmcid\", # Updating to reflect what type of ID it is, to match CZI\n",
    "         \"software_id\": \"software_id_kg_pmc\" # Updating to reflect that it is the dataset specific id TODO: check if this is mention id or \"local\" software id - perhaps rename to something more general\n",
    "    })\n",
    ")\n",
    "\n",
    "czi_df = (\n",
    "    czi_df.rename(\n",
    "        {\"software_name\": \"top_software_name\", # Update to match format of the KG-PMC dataset\n",
    "         \"software_id_CZI\": \"software_id_czi\"\n",
    "    })\n",
    ")\n",
    "\n",
    "czi_df = czi_df.with_columns( \n",
    "    (\"PMC\" + pl.col(\"article_pmcid\").cast(pl.Utf8)).alias(\"article_pmcid\") # Update CZI dataset to have pmcid on the format \"PMCxxxxxxx\" like somisci\n",
    ")"
   ]
  },
  {
   "cell_type": "markdown",
   "id": "41db0b62",
   "metadata": {},
   "source": [
    "### Standardising order"
   ]
  },
  {
   "cell_type": "code",
   "execution_count": 39,
   "id": "e0b765c9",
   "metadata": {},
   "outputs": [],
   "source": [
    "stand_czi_df = czi_df.select([\n",
    "    \"article_pmcid\",\n",
    "    \"software_id_czi\",\n",
    "    \"top_software_name\",\n",
    "    \"software_url\",\n",
    "\n",
    "    # Unique to this dataset\n",
    "    \"context\",\n",
    "    \"article_doi\",\n",
    "    \"software_rrid\",\n",
    "\n",
    "])\n",
    "\n",
    "stand_kg_pmc_df = kg_pmc_df.select([\n",
    "    \"article_pmcid\",\n",
    "    \"software_id_kg_pmc\",\n",
    "    \"top_software_name\",\n",
    "    \"software_url\",\n",
    "\n",
    "    # Unique to this dataset\n",
    "    \"all_software_names\",\n",
    "    \"mention_types\"\n",
    "])"
   ]
  },
  {
   "cell_type": "code",
   "execution_count": 40,
   "id": "0d56b220",
   "metadata": {},
   "outputs": [
    {
     "data": {
      "text/html": [
       "<div><style>\n",
       ".dataframe > thead > tr,\n",
       ".dataframe > tbody > tr {\n",
       "  text-align: right;\n",
       "  white-space: pre-wrap;\n",
       "}\n",
       "</style>\n",
       "<small>shape: (1, 7)</small><table border=\"1\" class=\"dataframe\"><thead><tr><th>statistic</th><th>article_pmcid</th><th>software_id_kg_pmc</th><th>top_software_name</th><th>software_url</th><th>all_software_names</th><th>mention_types</th></tr><tr><td>str</td><td>str</td><td>f64</td><td>str</td><td>str</td><td>str</td><td>str</td></tr></thead><tbody><tr><td>&quot;count&quot;</td><td>&quot;7466923&quot;</td><td>7.466923e6</td><td>&quot;7466923&quot;</td><td>&quot;550716&quot;</td><td>&quot;7466923&quot;</td><td>&quot;7466923&quot;</td></tr></tbody></table></div>"
      ],
      "text/plain": [
       "shape: (1, 7)\n",
       "┌───────────┬──────────────┬──────────────┬──────────────┬─────────────┬─────────────┬─────────────┐\n",
       "│ statistic ┆ article_pmci ┆ software_id_ ┆ top_software ┆ software_ur ┆ all_softwar ┆ mention_typ │\n",
       "│ ---       ┆ d            ┆ kg_pmc       ┆ _name        ┆ l           ┆ e_names     ┆ es          │\n",
       "│ str       ┆ ---          ┆ ---          ┆ ---          ┆ ---         ┆ ---         ┆ ---         │\n",
       "│           ┆ str          ┆ f64          ┆ str          ┆ str         ┆ str         ┆ str         │\n",
       "╞═══════════╪══════════════╪══════════════╪══════════════╪═════════════╪═════════════╪═════════════╡\n",
       "│ count     ┆ 7466923      ┆ 7.466923e6   ┆ 7466923      ┆ 550716      ┆ 7466923     ┆ 7466923     │\n",
       "└───────────┴──────────────┴──────────────┴──────────────┴─────────────┴─────────────┴─────────────┘"
      ]
     },
     "execution_count": 40,
     "metadata": {},
     "output_type": "execute_result"
    }
   ],
   "source": [
    "stand_kg_pmc_df.describe()[0]"
   ]
  },
  {
   "cell_type": "code",
   "execution_count": 41,
   "id": "9dc07b69",
   "metadata": {},
   "outputs": [
    {
     "data": {
      "text/html": [
       "<div><style>\n",
       ".dataframe > thead > tr,\n",
       ".dataframe > tbody > tr {\n",
       "  text-align: right;\n",
       "  white-space: pre-wrap;\n",
       "}\n",
       "</style>\n",
       "<small>shape: (1, 8)</small><table border=\"1\" class=\"dataframe\"><thead><tr><th>statistic</th><th>article_pmcid</th><th>software_id_czi</th><th>top_software_name</th><th>software_url</th><th>context</th><th>article_doi</th><th>software_rrid</th></tr><tr><td>str</td><td>str</td><td>str</td><td>str</td><td>f64</td><td>str</td><td>str</td><td>str</td></tr></thead><tbody><tr><td>&quot;count&quot;</td><td>&quot;16158993&quot;</td><td>&quot;16158993&quot;</td><td>&quot;16153163&quot;</td><td>9.46531e6</td><td>&quot;16158993&quot;</td><td>&quot;16056698&quot;</td><td>&quot;4223665&quot;</td></tr></tbody></table></div>"
      ],
      "text/plain": [
       "shape: (1, 8)\n",
       "┌───────────┬────────────┬────────────┬────────────┬────────────┬──────────┬───────────┬───────────┐\n",
       "│ statistic ┆ article_pm ┆ software_i ┆ top_softwa ┆ software_u ┆ context  ┆ article_d ┆ software_ │\n",
       "│ ---       ┆ cid        ┆ d_czi      ┆ re_name    ┆ rl         ┆ ---      ┆ oi        ┆ rrid      │\n",
       "│ str       ┆ ---        ┆ ---        ┆ ---        ┆ ---        ┆ str      ┆ ---       ┆ ---       │\n",
       "│           ┆ str        ┆ str        ┆ str        ┆ f64        ┆          ┆ str       ┆ str       │\n",
       "╞═══════════╪════════════╪════════════╪════════════╪════════════╪══════════╪═══════════╪═══════════╡\n",
       "│ count     ┆ 16158993   ┆ 16158993   ┆ 16153163   ┆ 9.46531e6  ┆ 16158993 ┆ 16056698  ┆ 4223665   │\n",
       "└───────────┴────────────┴────────────┴────────────┴────────────┴──────────┴───────────┴───────────┘"
      ]
     },
     "execution_count": 41,
     "metadata": {},
     "output_type": "execute_result"
    }
   ],
   "source": [
    "stand_czi_df.describe()[0]"
   ]
  },
  {
   "cell_type": "code",
   "execution_count": 42,
   "id": "9f53a4e0",
   "metadata": {},
   "outputs": [
    {
     "data": {
      "text/html": [
       "<div><style>\n",
       ".dataframe > thead > tr,\n",
       ".dataframe > tbody > tr {\n",
       "  text-align: right;\n",
       "  white-space: pre-wrap;\n",
       "}\n",
       "</style>\n",
       "<small>shape: (16_158_993, 7)</small><table border=\"1\" class=\"dataframe\"><thead><tr><th>article_pmcid</th><th>software_id_czi</th><th>top_software_name</th><th>software_url</th><th>context</th><th>article_doi</th><th>software_rrid</th></tr><tr><td>str</td><td>str</td><td>str</td><td>list[str]</td><td>str</td><td>str</td><td>str</td></tr></thead><tbody><tr><td>&quot;PMC8475362&quot;</td><td>&quot;SM0&quot;</td><td>&quot;Olympus CellSens&quot;</td><td>null</td><td>&quot;Then, all items were photograp…</td><td>&quot;10.1186/s43591-021-00017-9&quot;</td><td>null</td></tr><tr><td>&quot;PMC8475362&quot;</td><td>&quot;SM1&quot;</td><td>&quot;OPUS&quot;</td><td>null</td><td>&quot;Spectra were then vector norma…</td><td>&quot;10.1186/s43591-021-00017-9&quot;</td><td>null</td></tr><tr><td>&quot;PMC8475362&quot;</td><td>&quot;SM2&quot;</td><td>&quot;R package DHARMa&quot;</td><td>null</td><td>&quot;Model fit was assessed through…</td><td>&quot;10.1186/s43591-021-00017-9&quot;</td><td>null</td></tr><tr><td>&quot;PMC8475362&quot;</td><td>&quot;SM3&quot;</td><td>&quot;R&quot;</td><td>[null, null, … &quot;https://github.com/ncornwell/R&quot;]</td><td>&quot;Analyses and plotting were per…</td><td>&quot;10.1186/s43591-021-00017-9&quot;</td><td>null</td></tr><tr><td>&quot;PMC8475362&quot;</td><td>&quot;SM3&quot;</td><td>&quot;R&quot;</td><td>[null, null, … &quot;https://github.com/dmpe/R&quot;]</td><td>&quot;Analyses and plotting were per…</td><td>&quot;10.1186/s43591-021-00017-9&quot;</td><td>null</td></tr><tr><td>&hellip;</td><td>&hellip;</td><td>&hellip;</td><td>&hellip;</td><td>&hellip;</td><td>&hellip;</td><td>&hellip;</td></tr><tr><td>&quot;PMC6683272&quot;</td><td>&quot;SM53566&quot;</td><td>&quot;MetaVision&quot;</td><td>null</td><td>&quot;All data were obtained by revi…</td><td>&quot;10.3390/nu11071443&quot;</td><td>null</td></tr><tr><td>&quot;PMC6683272&quot;</td><td>&quot;SM4442&quot;</td><td>null</td><td>null</td><td>&quot;All data were obtained by revi…</td><td>&quot;10.3390/nu11071443&quot;</td><td>null</td></tr><tr><td>&quot;PMC6683272&quot;</td><td>&quot;SM53019&quot;</td><td>&quot;iMDsoft&quot;</td><td>null</td><td>&quot;All data were obtained by revi…</td><td>&quot;10.3390/nu11071443&quot;</td><td>null</td></tr><tr><td>&quot;PMC6683272&quot;</td><td>&quot;SM165&quot;</td><td>&quot;SPSS&quot;</td><td>[&quot;[&#x27;http://www-01.ibm.com/software/uk/analytics/spss/&#x27;]&quot;, &quot;[&#x27;https://www.ibm.com/products/software&#x27;]&quot;, … &quot;https://scicrunch.org/browse/resources/SCR_002865&quot;]</td><td>&quot;Statistical analysis was perfo…</td><td>&quot;10.3390/nu11071443&quot;</td><td>&quot;SCR_002865&quot;</td></tr><tr><td>&quot;PMC6683272&quot;</td><td>&quot;SM165&quot;</td><td>&quot;SPSS&quot;</td><td>[null, null, … &quot;https://github.com/laribio/SPSS&quot;]</td><td>&quot;Statistical analysis was perfo…</td><td>&quot;10.3390/nu11071443&quot;</td><td>null</td></tr></tbody></table></div>"
      ],
      "text/plain": [
       "shape: (16_158_993, 7)\n",
       "┌──────────────┬─────────────┬─────────────┬─────────────┬─────────────┬─────────────┬─────────────┐\n",
       "│ article_pmci ┆ software_id ┆ top_softwar ┆ software_ur ┆ context     ┆ article_doi ┆ software_rr │\n",
       "│ d            ┆ _czi        ┆ e_name      ┆ l           ┆ ---         ┆ ---         ┆ id          │\n",
       "│ ---          ┆ ---         ┆ ---         ┆ ---         ┆ str         ┆ str         ┆ ---         │\n",
       "│ str          ┆ str         ┆ str         ┆ list[str]   ┆             ┆             ┆ str         │\n",
       "╞══════════════╪═════════════╪═════════════╪═════════════╪═════════════╪═════════════╪═════════════╡\n",
       "│ PMC8475362   ┆ SM0         ┆ Olympus     ┆ null        ┆ Then, all   ┆ 10.1186/s43 ┆ null        │\n",
       "│              ┆             ┆ CellSens    ┆             ┆ items were  ┆ 591-021-000 ┆             │\n",
       "│              ┆             ┆             ┆             ┆ photograp…  ┆ 17-9        ┆             │\n",
       "│ PMC8475362   ┆ SM1         ┆ OPUS        ┆ null        ┆ Spectra     ┆ 10.1186/s43 ┆ null        │\n",
       "│              ┆             ┆             ┆             ┆ were then   ┆ 591-021-000 ┆             │\n",
       "│              ┆             ┆             ┆             ┆ vector      ┆ 17-9        ┆             │\n",
       "│              ┆             ┆             ┆             ┆ norma…      ┆             ┆             │\n",
       "│ PMC8475362   ┆ SM2         ┆ R package   ┆ null        ┆ Model fit   ┆ 10.1186/s43 ┆ null        │\n",
       "│              ┆             ┆ DHARMa      ┆             ┆ was         ┆ 591-021-000 ┆             │\n",
       "│              ┆             ┆             ┆             ┆ assessed    ┆ 17-9        ┆             │\n",
       "│              ┆             ┆             ┆             ┆ through…    ┆             ┆             │\n",
       "│ PMC8475362   ┆ SM3         ┆ R           ┆ [null,      ┆ Analyses    ┆ 10.1186/s43 ┆ null        │\n",
       "│              ┆             ┆             ┆ null, … \"ht ┆ and         ┆ 591-021-000 ┆             │\n",
       "│              ┆             ┆             ┆ tps://githu ┆ plotting    ┆ 17-9        ┆             │\n",
       "│              ┆             ┆             ┆ b…          ┆ were per…   ┆             ┆             │\n",
       "│ PMC8475362   ┆ SM3         ┆ R           ┆ [null,      ┆ Analyses    ┆ 10.1186/s43 ┆ null        │\n",
       "│              ┆             ┆             ┆ null, … \"ht ┆ and         ┆ 591-021-000 ┆             │\n",
       "│              ┆             ┆             ┆ tps://githu ┆ plotting    ┆ 17-9        ┆             │\n",
       "│              ┆             ┆             ┆ b…          ┆ were per…   ┆             ┆             │\n",
       "│ …            ┆ …           ┆ …           ┆ …           ┆ …           ┆ …           ┆ …           │\n",
       "│ PMC6683272   ┆ SM53566     ┆ MetaVision  ┆ null        ┆ All data    ┆ 10.3390/nu1 ┆ null        │\n",
       "│              ┆             ┆             ┆             ┆ were        ┆ 1071443     ┆             │\n",
       "│              ┆             ┆             ┆             ┆ obtained by ┆             ┆             │\n",
       "│              ┆             ┆             ┆             ┆ revi…       ┆             ┆             │\n",
       "│ PMC6683272   ┆ SM4442      ┆ null        ┆ null        ┆ All data    ┆ 10.3390/nu1 ┆ null        │\n",
       "│              ┆             ┆             ┆             ┆ were        ┆ 1071443     ┆             │\n",
       "│              ┆             ┆             ┆             ┆ obtained by ┆             ┆             │\n",
       "│              ┆             ┆             ┆             ┆ revi…       ┆             ┆             │\n",
       "│ PMC6683272   ┆ SM53019     ┆ iMDsoft     ┆ null        ┆ All data    ┆ 10.3390/nu1 ┆ null        │\n",
       "│              ┆             ┆             ┆             ┆ were        ┆ 1071443     ┆             │\n",
       "│              ┆             ┆             ┆             ┆ obtained by ┆             ┆             │\n",
       "│              ┆             ┆             ┆             ┆ revi…       ┆             ┆             │\n",
       "│ PMC6683272   ┆ SM165       ┆ SPSS        ┆ [\"['http:// ┆ Statistical ┆ 10.3390/nu1 ┆ SCR_002865  │\n",
       "│              ┆             ┆             ┆ www-01.ibm. ┆ analysis    ┆ 1071443     ┆             │\n",
       "│              ┆             ┆             ┆ com/soft…   ┆ was perfo…  ┆             ┆             │\n",
       "│ PMC6683272   ┆ SM165       ┆ SPSS        ┆ [null,      ┆ Statistical ┆ 10.3390/nu1 ┆ null        │\n",
       "│              ┆             ┆             ┆ null, … \"ht ┆ analysis    ┆ 1071443     ┆             │\n",
       "│              ┆             ┆             ┆ tps://githu ┆ was perfo…  ┆             ┆             │\n",
       "│              ┆             ┆             ┆ b…          ┆             ┆             ┆             │\n",
       "└──────────────┴─────────────┴─────────────┴─────────────┴─────────────┴─────────────┴─────────────┘"
      ]
     },
     "execution_count": 42,
     "metadata": {},
     "output_type": "execute_result"
    }
   ],
   "source": [
    "stand_czi_df"
   ]
  },
  {
   "cell_type": "markdown",
   "id": "b2fb3227",
   "metadata": {},
   "source": [
    "## Comparing the processed datasets"
   ]
  },
  {
   "cell_type": "markdown",
   "id": "184800d8",
   "metadata": {},
   "source": [
    "Sanity check to see if the PMC addition to article_pmcid in the CZI dataset worked"
   ]
  },
  {
   "cell_type": "code",
   "execution_count": null,
   "id": "e0615dbd",
   "metadata": {},
   "outputs": [
    {
     "name": "stdout",
     "output_type": "stream",
     "text": [
      "CZI unique: 1,697,560\n",
      "PMC unique: 1,910,273\n",
      "Common PMCIDs: 1,316,205\n"
     ]
    }
   ],
   "source": [
    "czi_unique = stand_czi_df.select(\"article_pmcid\").unique().height\n",
    "pmc_unique = stand_kg_pmc_df.select(\"article_pmcid\").unique().height\n",
    "\n",
    "common_pmcids = (\n",
    "    stand_czi_df.select(\"article_pmcid\").unique()\n",
    "    .join(\n",
    "        stand_kg_pmc_df.select(\"article_pmcid\").unique(),\n",
    "        on=\"article_pmcid\",\n",
    "        how=\"inner\"\n",
    "    )\n",
    ")\n",
    "\n",
    "\n",
    "print(f\"CZI unique: {czi_unique:,}\")\n",
    "print(f\"PMC unique: {pmc_unique:,}\")\n",
    "print(f\"Common PMCIDs: {common_pmcids.height:,}\")"
   ]
  },
  {
   "cell_type": "markdown",
   "id": "16f3a102",
   "metadata": {},
   "source": [
    "Looks reasonable!"
   ]
  }
 ],
 "metadata": {
  "kernelspec": {
   "display_name": "track1",
   "language": "python",
   "name": "python3"
  },
  "language_info": {
   "codemirror_mode": {
    "name": "ipython",
    "version": 3
   },
   "file_extension": ".py",
   "mimetype": "text/x-python",
   "name": "python",
   "nbconvert_exporter": "python",
   "pygments_lexer": "ipython3",
   "version": "3.9.6"
  }
 },
 "nbformat": 4,
 "nbformat_minor": 5
}
