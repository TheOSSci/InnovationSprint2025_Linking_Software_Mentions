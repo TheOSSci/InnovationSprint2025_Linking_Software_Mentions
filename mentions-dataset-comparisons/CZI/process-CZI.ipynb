{
 "cells": [
  {
   "cell_type": "markdown",
   "id": "c6ea47ec",
   "metadata": {},
   "source": [
    "# CZI\n",
    "## Links\n",
    "- [Dataset](https://datadryad.org/dataset/doi:10.5061/dryad.6wwpzgn2c)\n",
    "- [Github](https://github.com/chanzuckerberg/software-mentions)\n",
    "\n",
    "## Goal\n",
    "\n",
    "Extract a basic column-wise dataset from the CZI dataset that has the following columns:\n",
    "\n",
    "- `article_id`: the unique identifier for each article,\n",
    "- `software_id`: the unique identifier for each software,\n",
    "- `software_name`: the name of the software used in the article,\n",
    "- `mention_type`: a classification of reason for mention (e.g., \\\"use\\\", \\\"create\\\", \\\"share\\\", etc.),\n",
    "- `context`: the context of the mention (what was the surrounding text),\n",
    "- `extra_fields`: what other fields are available in this dataset that we can use"
   ]
  },
  {
   "cell_type": "markdown",
   "id": "0714ddfa",
   "metadata": {},
   "source": [
    "## Three sub-datasets\n",
    "\n",
    "### Raw\n",
    "Raw, plain-text software mentions, as extracted by the NER model\n",
    "\n",
    "```\n",
    "license\tlocation\tpmcid\tpmid\tdoi\tpubdate\tsource\tnumber\ttext\tsoftware\tversion\tID\tcuration_label\n",
    "```\n",
    "### Disambiguated\n",
    "Disambiguated software mentions, after disambiguation\n",
    "\n",
    "```\n",
    "license\tlocation\tpmcid\tpmid\tdoi\tpubdate\tsource\tnumber\ttext\tsoftware\tversion\tID\tcuration_label\tmapped_to_software\n",
    "```\n",
    "### Linked \n",
    "Linked software mentions\n",
    "\n",
    "```\n",
    "ID\tsoftware_mention\tmapped_to\tsource\tplatform\tpackage_url\tdescription\thomepage_url\tother_urls\tlicense\tgithub_repo\tgithub_repo_license\texact_match\tRRID\treference\tscicrunch_synonyms\n",
    "```"
   ]
  },
  {
   "cell_type": "markdown",
   "id": "d767f4b3",
   "metadata": {},
   "source": [
    "### What is available in this dataset based on the columns of somesci\n",
    "- [x] `article_id`: Available; pmcid, pmid or doi\n",
    "- [x] `software_id`: Available; RRID, Research Resource Identifier, but not many seem to have it (same as used for somisci?)\n",
    "- [x] `software_name`: Available; raw disambiguated or linked. Using most processed level, linked\n",
    "- [ ] `mention_type`: Not available \n",
    "- [x] `context`: Available\n",
    "- [ ] `extra_fields`: added software_url based on 4 different url fields - replace limited RRID?"
   ]
  },
  {
   "cell_type": "markdown",
   "id": "3554e75d",
   "metadata": {},
   "source": [
    "## Extracting basic columns"
   ]
  },
  {
   "cell_type": "code",
   "execution_count": null,
   "id": "b0d82123",
   "metadata": {},
   "outputs": [],
   "source": [
    "import polars as pl"
   ]
  },
  {
   "cell_type": "code",
   "execution_count": null,
   "id": "b576f826",
   "metadata": {},
   "outputs": [],
   "source": [
    "ROOT_DATA_DIR = \"../../data/CZI/\"\n",
    "RAW_PATH = ROOT_DATA_DIR + \"raw/comm_raw.tsv.gz\"\n",
    "DISAMB_PATH = ROOT_DATA_DIR + \"disambiguated/comm_disambiguated.tsv.gz\"\n",
    "LINKED_PATH = ROOT_DATA_DIR + \"linked/metadata.tsv.gz\""
   ]
  },
  {
   "cell_type": "code",
   "execution_count": 66,
   "id": "f0b50036",
   "metadata": {},
   "outputs": [],
   "source": [
    "disamb_df = pl.read_csv(DISAMB_PATH, separator=\"\\t\") #, infer_schema_length=100, n_rows=50000)\n",
    "linked_df = pl.read_csv(LINKED_PATH, separator=\"\\t\") #, infer_schema_length=100, n_rows=50000)"
   ]
  },
  {
   "cell_type": "markdown",
   "id": "51ba96b3",
   "metadata": {},
   "source": [
    "### A look at the original data"
   ]
  },
  {
   "cell_type": "code",
   "execution_count": 86,
   "id": "92536d3c",
   "metadata": {},
   "outputs": [
    {
     "data": {
      "text/html": [
       "<div><style>\n",
       ".dataframe > thead > tr,\n",
       ".dataframe > tbody > tr {\n",
       "  text-align: right;\n",
       "  white-space: pre-wrap;\n",
       "}\n",
       "</style>\n",
       "<small>shape: (9, 15)</small><table border=\"1\" class=\"dataframe\"><thead><tr><th>statistic</th><th>license</th><th>location</th><th>pmcid</th><th>pmid</th><th>doi</th><th>pubdate</th><th>source</th><th>number</th><th>text</th><th>software</th><th>version</th><th>ID</th><th>curation_label</th><th>mapped_to_software</th></tr><tr><td>str</td><td>str</td><td>str</td><td>f64</td><td>f64</td><td>str</td><td>f64</td><td>str</td><td>f64</td><td>str</td><td>str</td><td>str</td><td>str</td><td>str</td><td>str</td></tr></thead><tbody><tr><td>&quot;count&quot;</td><td>&quot;14770209&quot;</td><td>&quot;14770209&quot;</td><td>1.4770209e7</td><td>1.4684219e7</td><td>&quot;14679097&quot;</td><td>1.4770209e7</td><td>&quot;13406580&quot;</td><td>1.4770209e7</td><td>&quot;14770209&quot;</td><td>&quot;14764379&quot;</td><td>&quot;1127612&quot;</td><td>&quot;14770209&quot;</td><td>&quot;14770209&quot;</td><td>&quot;14770207&quot;</td></tr><tr><td>&quot;null_count&quot;</td><td>&quot;0&quot;</td><td>&quot;0&quot;</td><td>0.0</td><td>85990.0</td><td>&quot;91112&quot;</td><td>0.0</td><td>&quot;1363629&quot;</td><td>0.0</td><td>&quot;0&quot;</td><td>&quot;5830&quot;</td><td>&quot;13642597&quot;</td><td>&quot;0&quot;</td><td>&quot;0&quot;</td><td>&quot;2&quot;</td></tr><tr><td>&quot;mean&quot;</td><td>null</td><td>null</td><td>5.9107e6</td><td>2.9085e7</td><td>null</td><td>2017.106828</td><td>null</td><td>29.593835</td><td>null</td><td>null</td><td>null</td><td>null</td><td>null</td><td>null</td></tr><tr><td>&quot;std&quot;</td><td>null</td><td>null</td><td>1.7456e6</td><td>4.3322e6</td><td>null</td><td>3.607958</td><td>null</td><td>109.923538</td><td>null</td><td>null</td><td>null</td><td>null</td><td>null</td><td>null</td></tr><tr><td>&quot;min&quot;</td><td>&quot;comm&quot;</td><td>&quot;comm/20_Century_Br_Hist/PMC480…</td><td>176545.0</td><td>1.777407e6</td><td>&quot; 10.1186/1477-5956-10-26&quot;</td><td>1797.0</td><td>&quot;&quot;&quot;&quot;&quot;&quot;&quot;&quot;Administration&quot;&quot;&quot;&quot;&quot;&quot;&quot;&quot;</td><td>0.0</td><td>&quot; # 198 genes mapped to this te…</td><td>&quot; MGA&quot;</td><td>&quot;#20&quot;</td><td>&quot;SM0&quot;</td><td>&quot;not_curated&quot;</td><td>&quot;#GenomicDay&quot;</td></tr><tr><td>&quot;25%&quot;</td><td>null</td><td>null</td><td>4.529189e6</td><td>2.6161174e7</td><td>null</td><td>2015.0</td><td>null</td><td>8.0</td><td>null</td><td>null</td><td>null</td><td>null</td><td>null</td><td>null</td></tr><tr><td>&quot;50%&quot;</td><td>null</td><td>null</td><td>6.128579e6</td><td>3.0105754e7</td><td>null</td><td>2018.0</td><td>null</td><td>18.0</td><td>null</td><td>null</td><td>null</td><td>null</td><td>null</td><td>null</td></tr><tr><td>&quot;75%&quot;</td><td>null</td><td>null</td><td>7.431423e6</td><td>3.2730277e7</td><td>null</td><td>2020.0</td><td>null</td><td>35.0</td><td>null</td><td>null</td><td>null</td><td>null</td><td>null</td><td>null</td></tr><tr><td>&quot;max&quot;</td><td>&quot;comm&quot;</td><td>&quot;comm/psychopraxis/PMC8325535.n…</td><td>8.51084e6</td><td>3.4637085e7</td><td>&quot;10.9745/GHSP-D-21-00233&quot;</td><td>2022.0</td><td>&quot;𝜑XANES analysis&quot;</td><td>20116.0</td><td>&quot;𝜀c regressions and comparisons…</td><td>&quot;鼠源及人源化BCMA CAR-T的转染效率&quot;</td><td>&quot;应用SPSS22.0软件进行统计学分析&quot;</td><td>&quot;SM999999&quot;</td><td>&quot;unclear&quot;</td><td>&quot;∗BEAST&quot;</td></tr></tbody></table></div>"
      ],
      "text/plain": [
       "shape: (9, 15)\n",
       "┌────────────┬──────────┬───────────┬───────────┬───┬───────────┬──────────┬───────────┬───────────┐\n",
       "│ statistic  ┆ license  ┆ location  ┆ pmcid     ┆ … ┆ version   ┆ ID       ┆ curation_ ┆ mapped_to │\n",
       "│ ---        ┆ ---      ┆ ---       ┆ ---       ┆   ┆ ---       ┆ ---      ┆ label     ┆ _software │\n",
       "│ str        ┆ str      ┆ str       ┆ f64       ┆   ┆ str       ┆ str      ┆ ---       ┆ ---       │\n",
       "│            ┆          ┆           ┆           ┆   ┆           ┆          ┆ str       ┆ str       │\n",
       "╞════════════╪══════════╪═══════════╪═══════════╪═══╪═══════════╪══════════╪═══════════╪═══════════╡\n",
       "│ count      ┆ 14770209 ┆ 14770209  ┆ 1.4770209 ┆ … ┆ 1127612   ┆ 14770209 ┆ 14770209  ┆ 14770207  │\n",
       "│            ┆          ┆           ┆ e7        ┆   ┆           ┆          ┆           ┆           │\n",
       "│ null_count ┆ 0        ┆ 0         ┆ 0.0       ┆ … ┆ 13642597  ┆ 0        ┆ 0         ┆ 2         │\n",
       "│ mean       ┆ null     ┆ null      ┆ 5.9107e6  ┆ … ┆ null      ┆ null     ┆ null      ┆ null      │\n",
       "│ std        ┆ null     ┆ null      ┆ 1.7456e6  ┆ … ┆ null      ┆ null     ┆ null      ┆ null      │\n",
       "│ min        ┆ comm     ┆ comm/20_C ┆ 176545.0  ┆ … ┆ #20       ┆ SM0      ┆ not_curat ┆ #GenomicD │\n",
       "│            ┆          ┆ entury_Br ┆           ┆   ┆           ┆          ┆ ed        ┆ ay        │\n",
       "│            ┆          ┆ _Hist/PMC ┆           ┆   ┆           ┆          ┆           ┆           │\n",
       "│            ┆          ┆ 480…      ┆           ┆   ┆           ┆          ┆           ┆           │\n",
       "│ 25%        ┆ null     ┆ null      ┆ 4.529189e ┆ … ┆ null      ┆ null     ┆ null      ┆ null      │\n",
       "│            ┆          ┆           ┆ 6         ┆   ┆           ┆          ┆           ┆           │\n",
       "│ 50%        ┆ null     ┆ null      ┆ 6.128579e ┆ … ┆ null      ┆ null     ┆ null      ┆ null      │\n",
       "│            ┆          ┆           ┆ 6         ┆   ┆           ┆          ┆           ┆           │\n",
       "│ 75%        ┆ null     ┆ null      ┆ 7.431423e ┆ … ┆ null      ┆ null     ┆ null      ┆ null      │\n",
       "│            ┆          ┆           ┆ 6         ┆   ┆           ┆          ┆           ┆           │\n",
       "│ max        ┆ comm     ┆ comm/psyc ┆ 8.51084e6 ┆ … ┆ 应用SPSS2 ┆ SM999999 ┆ unclear   ┆ ∗BEAST    │\n",
       "│            ┆          ┆ hopraxis/ ┆           ┆   ┆ 2.0软件进 ┆          ┆           ┆           │\n",
       "│            ┆          ┆ PMC832553 ┆           ┆   ┆ 行统计学  ┆          ┆           ┆           │\n",
       "│            ┆          ┆ 5.n…      ┆           ┆   ┆ 分析      ┆          ┆           ┆           │\n",
       "└────────────┴──────────┴───────────┴───────────┴───┴───────────┴──────────┴───────────┴───────────┘"
      ]
     },
     "execution_count": 86,
     "metadata": {},
     "output_type": "execute_result"
    }
   ],
   "source": [
    "disamb_df.describe()"
   ]
  },
  {
   "cell_type": "code",
   "execution_count": 87,
   "id": "53590f82",
   "metadata": {},
   "outputs": [
    {
     "data": {
      "text/html": [
       "<div><style>\n",
       ".dataframe > thead > tr,\n",
       ".dataframe > tbody > tr {\n",
       "  text-align: right;\n",
       "  white-space: pre-wrap;\n",
       "}\n",
       "</style>\n",
       "<small>shape: (9, 17)</small><table border=\"1\" class=\"dataframe\"><thead><tr><th>statistic</th><th>ID</th><th>software_mention</th><th>mapped_to</th><th>source</th><th>platform</th><th>package_url</th><th>description</th><th>homepage_url</th><th>other_urls</th><th>license</th><th>github_repo</th><th>github_repo_license</th><th>exact_match</th><th>RRID</th><th>reference</th><th>scicrunch_synonyms</th></tr><tr><td>str</td><td>str</td><td>str</td><td>str</td><td>str</td><td>str</td><td>str</td><td>str</td><td>str</td><td>str</td><td>str</td><td>str</td><td>str</td><td>f64</td><td>str</td><td>str</td><td>str</td></tr></thead><tbody><tr><td>&quot;count&quot;</td><td>&quot;149015&quot;</td><td>&quot;149015&quot;</td><td>&quot;149015&quot;</td><td>&quot;149015&quot;</td><td>&quot;17540&quot;</td><td>&quot;149015&quot;</td><td>&quot;116070&quot;</td><td>&quot;36306&quot;</td><td>&quot;18766&quot;</td><td>&quot;13485&quot;</td><td>&quot;143835&quot;</td><td>&quot;39464&quot;</td><td>149015.0</td><td>&quot;18766&quot;</td><td>&quot;22134&quot;</td><td>&quot;18766&quot;</td></tr><tr><td>&quot;null_count&quot;</td><td>&quot;0&quot;</td><td>&quot;0&quot;</td><td>&quot;0&quot;</td><td>&quot;0&quot;</td><td>&quot;131475&quot;</td><td>&quot;0&quot;</td><td>&quot;32945&quot;</td><td>&quot;112709&quot;</td><td>&quot;130249&quot;</td><td>&quot;135530&quot;</td><td>&quot;5180&quot;</td><td>&quot;109551&quot;</td><td>0.0</td><td>&quot;130249&quot;</td><td>&quot;126881&quot;</td><td>&quot;130249&quot;</td></tr><tr><td>&quot;mean&quot;</td><td>null</td><td>null</td><td>null</td><td>null</td><td>null</td><td>null</td><td>null</td><td>null</td><td>null</td><td>null</td><td>null</td><td>null</td><td>0.903902</td><td>null</td><td>null</td><td>null</td></tr><tr><td>&quot;std&quot;</td><td>null</td><td>null</td><td>null</td><td>null</td><td>null</td><td>null</td><td>null</td><td>null</td><td>null</td><td>null</td><td>null</td><td>null</td><td>null</td><td>null</td><td>null</td><td>null</td></tr><tr><td>&quot;min&quot;</td><td>&quot;SM100000&quot;</td><td>&quot;&#x27;O&quot;</td><td>&quot; AnaMorph&quot;</td><td>&quot;Bioconductor Index&quot;</td><td>&quot;Bioconductor&quot;</td><td>&quot;https://cran.r-project.org/web…</td><td>&quot;\t Multilevel Modeling in Epide…</td><td>&quot;[&quot;http://www.maths.soton.ac.uk…</td><td>&quot;[&#x27;Mutation&#x27;, &#x27;Surveyor&#x27;, &#x27;soft…</td><td>&quot;ACM&quot;</td><td>&quot;&lt;https://github.com/zhangjunpe…</td><td>&quot;0BSD&quot;</td><td>0.0</td><td>&quot;SCR_000004&quot;</td><td>&quot;&lt;pre&gt;\n",
       "&nbsp;&nbsp;@Article{,\n",
       "&nbsp;&nbsp;&nbsp;&nbsp;author …</td><td>&quot;[&quot;a character of the italian c…</td></tr><tr><td>&quot;25%&quot;</td><td>null</td><td>null</td><td>null</td><td>null</td><td>null</td><td>null</td><td>null</td><td>null</td><td>null</td><td>null</td><td>null</td><td>null</td><td>null</td><td>null</td><td>null</td><td>null</td></tr><tr><td>&quot;50%&quot;</td><td>null</td><td>null</td><td>null</td><td>null</td><td>null</td><td>null</td><td>null</td><td>null</td><td>null</td><td>null</td><td>null</td><td>null</td><td>null</td><td>null</td><td>null</td><td>null</td></tr><tr><td>&quot;75%&quot;</td><td>null</td><td>null</td><td>null</td><td>null</td><td>null</td><td>null</td><td>null</td><td>null</td><td>null</td><td>null</td><td>null</td><td>null</td><td>null</td><td>null</td><td>null</td><td>null</td></tr><tr><td>&quot;max&quot;</td><td>&quot;SM999993&quot;</td><td>&quot;ÖGD&quot;</td><td>&quot;zzip&quot;</td><td>&quot;SciCrunch API&quot;</td><td>&quot;Pypi&quot;</td><td>&quot;https://www.bioconductor.org/p…</td><td>&quot;🪱 PARASITE || A parallel sente…</td><td>&quot;[]&quot;</td><td>&quot;[]&quot;</td><td>&quot;file LICENSE&quot;</td><td>&quot;https://github.com/zzzzbw/Fame&quot;</td><td>&quot;Zlib&quot;</td><td>1.0</td><td>&quot;SCR_021924&quot;</td><td>&quot;https://doi.org/doi:10.18129/B…</td><td>&quot;[&#x27;zymo research corporation&#x27;, …</td></tr></tbody></table></div>"
      ],
      "text/plain": [
       "shape: (9, 17)\n",
       "┌───────────┬──────────┬───────────┬───────────┬───┬───────────┬───────────┬───────────┬───────────┐\n",
       "│ statistic ┆ ID       ┆ software_ ┆ mapped_to ┆ … ┆ exact_mat ┆ RRID      ┆ reference ┆ scicrunch │\n",
       "│ ---       ┆ ---      ┆ mention   ┆ ---       ┆   ┆ ch        ┆ ---       ┆ ---       ┆ _synonyms │\n",
       "│ str       ┆ str      ┆ ---       ┆ str       ┆   ┆ ---       ┆ str       ┆ str       ┆ ---       │\n",
       "│           ┆          ┆ str       ┆           ┆   ┆ f64       ┆           ┆           ┆ str       │\n",
       "╞═══════════╪══════════╪═══════════╪═══════════╪═══╪═══════════╪═══════════╪═══════════╪═══════════╡\n",
       "│ count     ┆ 149015   ┆ 149015    ┆ 149015    ┆ … ┆ 149015.0  ┆ 18766     ┆ 22134     ┆ 18766     │\n",
       "│ null_coun ┆ 0        ┆ 0         ┆ 0         ┆ … ┆ 0.0       ┆ 130249    ┆ 126881    ┆ 130249    │\n",
       "│ t         ┆          ┆           ┆           ┆   ┆           ┆           ┆           ┆           │\n",
       "│ mean      ┆ null     ┆ null      ┆ null      ┆ … ┆ 0.903902  ┆ null      ┆ null      ┆ null      │\n",
       "│ std       ┆ null     ┆ null      ┆ null      ┆ … ┆ null      ┆ null      ┆ null      ┆ null      │\n",
       "│ min       ┆ SM100000 ┆ 'O        ┆  AnaMorph ┆ … ┆ 0.0       ┆ SCR_00000 ┆ <pre>     ┆ [\"a       │\n",
       "│           ┆          ┆           ┆           ┆   ┆           ┆ 4         ┆ @Article{ ┆ character │\n",
       "│           ┆          ┆           ┆           ┆   ┆           ┆           ┆ ,         ┆ of the    │\n",
       "│           ┆          ┆           ┆           ┆   ┆           ┆           ┆ author …  ┆ italian   │\n",
       "│           ┆          ┆           ┆           ┆   ┆           ┆           ┆           ┆ c…        │\n",
       "│ 25%       ┆ null     ┆ null      ┆ null      ┆ … ┆ null      ┆ null      ┆ null      ┆ null      │\n",
       "│ 50%       ┆ null     ┆ null      ┆ null      ┆ … ┆ null      ┆ null      ┆ null      ┆ null      │\n",
       "│ 75%       ┆ null     ┆ null      ┆ null      ┆ … ┆ null      ┆ null      ┆ null      ┆ null      │\n",
       "│ max       ┆ SM999993 ┆ ÖGD       ┆ zzip      ┆ … ┆ 1.0       ┆ SCR_02192 ┆ https://d ┆ ['zymo    │\n",
       "│           ┆          ┆           ┆           ┆   ┆           ┆ 4         ┆ oi.org/do ┆ research  │\n",
       "│           ┆          ┆           ┆           ┆   ┆           ┆           ┆ i:10.1812 ┆ corporati │\n",
       "│           ┆          ┆           ┆           ┆   ┆           ┆           ┆ 9/B…      ┆ on', …    │\n",
       "└───────────┴──────────┴───────────┴───────────┴───┴───────────┴───────────┴───────────┴───────────┘"
      ]
     },
     "execution_count": 87,
     "metadata": {},
     "output_type": "execute_result"
    }
   ],
   "source": [
    "linked_df.describe()"
   ]
  },
  {
   "cell_type": "markdown",
   "id": "06e068b2",
   "metadata": {},
   "source": [
    "### Exclude the mentions marked as not_software:\n"
   ]
  },
  {
   "cell_type": "code",
   "execution_count": null,
   "id": "b024d48a",
   "metadata": {},
   "outputs": [
    {
     "data": {
      "text/plain": [
       "0.9012042415919774"
      ]
     },
     "execution_count": 89,
     "metadata": {},
     "output_type": "execute_result"
    }
   ],
   "source": [
    "disamb_df_clean = disamb_df.filter(pl.col(\"curation_label\") != \"not_software\")\n",
    "# ratio of clean to not clean data\n",
    "disamb_df_clean.shape[0] / disamb_df.shape[0]\n"
   ]
  },
  {
   "cell_type": "markdown",
   "id": "6be0dc29",
   "metadata": {},
   "source": [
    "### Select and rename columns"
   ]
  },
  {
   "cell_type": "code",
   "execution_count": 92,
   "id": "c5901ea0",
   "metadata": {},
   "outputs": [
    {
     "data": {
      "text/html": [
       "<div><style>\n",
       ".dataframe > thead > tr,\n",
       ".dataframe > tbody > tr {\n",
       "  text-align: right;\n",
       "  white-space: pre-wrap;\n",
       "}\n",
       "</style>\n",
       "<small>shape: (16_158_993, 6)</small><table border=\"1\" class=\"dataframe\"><thead><tr><th>article_id</th><th>CZI_software_mention_id</th><th>software_id</th><th>software_name</th><th>software_url</th><th>context</th></tr><tr><td>str</td><td>str</td><td>str</td><td>str</td><td>list[str]</td><td>str</td></tr></thead><tbody><tr><td>&quot;10.1186/s43591-021-00017-9&quot;</td><td>&quot;SM0&quot;</td><td>null</td><td>&quot;Olympus CellSens&quot;</td><td>null</td><td>&quot;Then, all items were photograp…</td></tr><tr><td>&quot;10.1186/s43591-021-00017-9&quot;</td><td>&quot;SM1&quot;</td><td>null</td><td>&quot;OPUS&quot;</td><td>null</td><td>&quot;Spectra were then vector norma…</td></tr><tr><td>&quot;10.1186/s43591-021-00017-9&quot;</td><td>&quot;SM2&quot;</td><td>null</td><td>&quot;R package DHARMa&quot;</td><td>null</td><td>&quot;Model fit was assessed through…</td></tr><tr><td>&quot;10.1186/s43591-021-00017-9&quot;</td><td>&quot;SM3&quot;</td><td>null</td><td>&quot;R&quot;</td><td>[null, null, … &quot;https://github.com/ncornwell/R&quot;]</td><td>&quot;Analyses and plotting were per…</td></tr><tr><td>&quot;10.1186/s43591-021-00017-9&quot;</td><td>&quot;SM3&quot;</td><td>null</td><td>&quot;R&quot;</td><td>[null, null, … &quot;https://github.com/dmpe/R&quot;]</td><td>&quot;Analyses and plotting were per…</td></tr><tr><td>&hellip;</td><td>&hellip;</td><td>&hellip;</td><td>&hellip;</td><td>&hellip;</td><td>&hellip;</td></tr><tr><td>&quot;10.3390/nu11071443&quot;</td><td>&quot;SM53566&quot;</td><td>null</td><td>&quot;MetaVision&quot;</td><td>null</td><td>&quot;All data were obtained by revi…</td></tr><tr><td>&quot;10.3390/nu11071443&quot;</td><td>&quot;SM4442&quot;</td><td>null</td><td>null</td><td>null</td><td>&quot;All data were obtained by revi…</td></tr><tr><td>&quot;10.3390/nu11071443&quot;</td><td>&quot;SM53019&quot;</td><td>null</td><td>&quot;iMDsoft&quot;</td><td>null</td><td>&quot;All data were obtained by revi…</td></tr><tr><td>&quot;10.3390/nu11071443&quot;</td><td>&quot;SM165&quot;</td><td>&quot;SCR_002865&quot;</td><td>&quot;SPSS&quot;</td><td>[&quot;[&#x27;http://www-01.ibm.com/software/uk/analytics/spss/&#x27;]&quot;, &quot;[&#x27;https://www.ibm.com/products/software&#x27;]&quot;, … &quot;https://scicrunch.org/browse/resources/SCR_002865&quot;]</td><td>&quot;Statistical analysis was perfo…</td></tr><tr><td>&quot;10.3390/nu11071443&quot;</td><td>&quot;SM165&quot;</td><td>null</td><td>&quot;SPSS&quot;</td><td>[null, null, … &quot;https://github.com/laribio/SPSS&quot;]</td><td>&quot;Statistical analysis was perfo…</td></tr></tbody></table></div>"
      ],
      "text/plain": [
       "shape: (16_158_993, 6)\n",
       "┌────────────────┬────────────────┬─────────────┬────────────────┬────────────────┬────────────────┐\n",
       "│ article_id     ┆ CZI_software_m ┆ software_id ┆ software_name  ┆ software_url   ┆ context        │\n",
       "│ ---            ┆ ention_id      ┆ ---         ┆ ---            ┆ ---            ┆ ---            │\n",
       "│ str            ┆ ---            ┆ str         ┆ str            ┆ list[str]      ┆ str            │\n",
       "│                ┆ str            ┆             ┆                ┆                ┆                │\n",
       "╞════════════════╪════════════════╪═════════════╪════════════════╪════════════════╪════════════════╡\n",
       "│ 10.1186/s43591 ┆ SM0            ┆ null        ┆ Olympus        ┆ null           ┆ Then, all      │\n",
       "│ -021-00017-9   ┆                ┆             ┆ CellSens       ┆                ┆ items were     │\n",
       "│                ┆                ┆             ┆                ┆                ┆ photograp…     │\n",
       "│ 10.1186/s43591 ┆ SM1            ┆ null        ┆ OPUS           ┆ null           ┆ Spectra were   │\n",
       "│ -021-00017-9   ┆                ┆             ┆                ┆                ┆ then vector    │\n",
       "│                ┆                ┆             ┆                ┆                ┆ norma…         │\n",
       "│ 10.1186/s43591 ┆ SM2            ┆ null        ┆ R package      ┆ null           ┆ Model fit was  │\n",
       "│ -021-00017-9   ┆                ┆             ┆ DHARMa         ┆                ┆ assessed       │\n",
       "│                ┆                ┆             ┆                ┆                ┆ through…       │\n",
       "│ 10.1186/s43591 ┆ SM3            ┆ null        ┆ R              ┆ [null, null, … ┆ Analyses and   │\n",
       "│ -021-00017-9   ┆                ┆             ┆                ┆ \"https://githu ┆ plotting were  │\n",
       "│                ┆                ┆             ┆                ┆ b…             ┆ per…           │\n",
       "│ 10.1186/s43591 ┆ SM3            ┆ null        ┆ R              ┆ [null, null, … ┆ Analyses and   │\n",
       "│ -021-00017-9   ┆                ┆             ┆                ┆ \"https://githu ┆ plotting were  │\n",
       "│                ┆                ┆             ┆                ┆ b…             ┆ per…           │\n",
       "│ …              ┆ …              ┆ …           ┆ …              ┆ …              ┆ …              │\n",
       "│ 10.3390/nu1107 ┆ SM53566        ┆ null        ┆ MetaVision     ┆ null           ┆ All data were  │\n",
       "│ 1443           ┆                ┆             ┆                ┆                ┆ obtained by    │\n",
       "│                ┆                ┆             ┆                ┆                ┆ revi…          │\n",
       "│ 10.3390/nu1107 ┆ SM4442         ┆ null        ┆ null           ┆ null           ┆ All data were  │\n",
       "│ 1443           ┆                ┆             ┆                ┆                ┆ obtained by    │\n",
       "│                ┆                ┆             ┆                ┆                ┆ revi…          │\n",
       "│ 10.3390/nu1107 ┆ SM53019        ┆ null        ┆ iMDsoft        ┆ null           ┆ All data were  │\n",
       "│ 1443           ┆                ┆             ┆                ┆                ┆ obtained by    │\n",
       "│                ┆                ┆             ┆                ┆                ┆ revi…          │\n",
       "│ 10.3390/nu1107 ┆ SM165          ┆ SCR_002865  ┆ SPSS           ┆ [\"['http://www ┆ Statistical    │\n",
       "│ 1443           ┆                ┆             ┆                ┆ -01.ibm.com/so ┆ analysis was   │\n",
       "│                ┆                ┆             ┆                ┆ ft…            ┆ perfo…         │\n",
       "│ 10.3390/nu1107 ┆ SM165          ┆ null        ┆ SPSS           ┆ [null, null, … ┆ Statistical    │\n",
       "│ 1443           ┆                ┆             ┆                ┆ \"https://githu ┆ analysis was   │\n",
       "│                ┆                ┆             ┆                ┆ b…             ┆ perfo…         │\n",
       "└────────────────┴────────────────┴─────────────┴────────────────┴────────────────┴────────────────┘"
      ]
     },
     "execution_count": 92,
     "metadata": {},
     "output_type": "execute_result"
    }
   ],
   "source": [
    "# Select core columns from the disambigued data\n",
    "core_df = disamb_df_clean.select([\n",
    "    pl.col(\"doi\").alias(\"article_id\"), # TODO: Change to doi or pmid depending on which to use, or combine all?\n",
    "    pl.col(\"ID\").alias(\"CZI_software_mention_id\"),\n",
    "    pl.col(\"software\").alias(\"software_name\"),\n",
    "    pl.col(\"text\").alias(\"context\"),\n",
    "    # pl.col(\" \").alias(\"mention_type\") # TODO: Mention type does not exist, extract from context?\n",
    "]) \n",
    "\n",
    "# Software IDs from linked \n",
    "software_info_df = linked_df.select([\n",
    "    pl.col(\"ID\").alias(\"CZI_software_mention_id\"),\n",
    "    pl.col(\"RRID\").alias(\"software_id\"), #disambiguated software identifier (if available)\n",
    "\n",
    "    # combine the different urls into one called software_url - list of unique not nulls:\n",
    "    # TODO: these are all currently str \"lists\" except for package_url, need to fix that later\n",
    "    (\n",
    "    pl.concat_list([\n",
    "        pl.col(\"homepage_url\"),\n",
    "        pl.col(\"other_urls\"),\n",
    "        pl.col(\"github_repo\"),\n",
    "        pl.col(\"package_url\")  # this is originally a string\n",
    "    ]).alias(\"software_url\")\n",
    "    )\n",
    "\n",
    "])\n",
    "\n",
    "\n",
    "# Join  - add software ids to the entries in the core df\n",
    "merged_df = core_df.join(software_info_df, on=\"CZI_software_mention_id\", how=\"left\")\n",
    "\n",
    "# Rearrange so its the same as the somisci\n",
    "# Although this also contains the contexta and does not contain mention type as that is not available\n",
    "final_df = merged_df.select([\n",
    "    \"article_id\",\n",
    "    \"CZI_software_mention_id\",\n",
    "    \"software_id\",\n",
    "    \"software_name\",\n",
    "    \"software_url\",\n",
    "    \"context\"  \n",
    "])\n",
    "\n",
    "final_df\n",
    "\n"
   ]
  },
  {
   "cell_type": "markdown",
   "id": "981ecf93",
   "metadata": {},
   "source": [
    "### Stats"
   ]
  },
  {
   "cell_type": "code",
   "execution_count": 93,
   "id": "7e6712c6",
   "metadata": {},
   "outputs": [
    {
     "data": {
      "text/html": [
       "<div><style>\n",
       ".dataframe > thead > tr,\n",
       ".dataframe > tbody > tr {\n",
       "  text-align: right;\n",
       "  white-space: pre-wrap;\n",
       "}\n",
       "</style>\n",
       "<small>shape: (9, 7)</small><table border=\"1\" class=\"dataframe\"><thead><tr><th>statistic</th><th>article_id</th><th>CZI_software_mention_id</th><th>software_id</th><th>software_name</th><th>software_url</th><th>context</th></tr><tr><td>str</td><td>str</td><td>str</td><td>str</td><td>str</td><td>f64</td><td>str</td></tr></thead><tbody><tr><td>&quot;count&quot;</td><td>&quot;16056698&quot;</td><td>&quot;16158993&quot;</td><td>&quot;4223665&quot;</td><td>&quot;16153163&quot;</td><td>9.46531e6</td><td>&quot;16158993&quot;</td></tr><tr><td>&quot;null_count&quot;</td><td>&quot;102295&quot;</td><td>&quot;0&quot;</td><td>&quot;11935328&quot;</td><td>&quot;5830&quot;</td><td>6.693683e6</td><td>&quot;0&quot;</td></tr><tr><td>&quot;mean&quot;</td><td>null</td><td>null</td><td>null</td><td>null</td><td>null</td><td>null</td></tr><tr><td>&quot;std&quot;</td><td>null</td><td>null</td><td>null</td><td>null</td><td>null</td><td>null</td></tr><tr><td>&quot;min&quot;</td><td>&quot; 10.1186/1477-5956-10-26&quot;</td><td>&quot;SM0&quot;</td><td>&quot;SCR_000004&quot;</td><td>&quot; MGA&quot;</td><td>null</td><td>&quot; # 198 genes mapped to this te…</td></tr><tr><td>&quot;25%&quot;</td><td>null</td><td>null</td><td>null</td><td>null</td><td>null</td><td>null</td></tr><tr><td>&quot;50%&quot;</td><td>null</td><td>null</td><td>null</td><td>null</td><td>null</td><td>null</td></tr><tr><td>&quot;75%&quot;</td><td>null</td><td>null</td><td>null</td><td>null</td><td>null</td><td>null</td></tr><tr><td>&quot;max&quot;</td><td>&quot;10.9745/GHSP-D-21-00144&quot;</td><td>&quot;SM999999&quot;</td><td>&quot;SCR_021924&quot;</td><td>&quot;鼠源及人源化BCMA CAR-T的转染效率&quot;</td><td>null</td><td>&quot;𝜀c regressions and comparisons…</td></tr></tbody></table></div>"
      ],
      "text/plain": [
       "shape: (9, 7)\n",
       "┌────────────┬──────────────┬──────────────┬─────────────┬─────────────┬─────────────┬─────────────┐\n",
       "│ statistic  ┆ article_id   ┆ CZI_software ┆ software_id ┆ software_na ┆ software_ur ┆ context     │\n",
       "│ ---        ┆ ---          ┆ _mention_id  ┆ ---         ┆ me          ┆ l           ┆ ---         │\n",
       "│ str        ┆ str          ┆ ---          ┆ str         ┆ ---         ┆ ---         ┆ str         │\n",
       "│            ┆              ┆ str          ┆             ┆ str         ┆ f64         ┆             │\n",
       "╞════════════╪══════════════╪══════════════╪═════════════╪═════════════╪═════════════╪═════════════╡\n",
       "│ count      ┆ 16056698     ┆ 16158993     ┆ 4223665     ┆ 16153163    ┆ 9.46531e6   ┆ 16158993    │\n",
       "│ null_count ┆ 102295       ┆ 0            ┆ 11935328    ┆ 5830        ┆ 6.693683e6  ┆ 0           │\n",
       "│ mean       ┆ null         ┆ null         ┆ null        ┆ null        ┆ null        ┆ null        │\n",
       "│ std        ┆ null         ┆ null         ┆ null        ┆ null        ┆ null        ┆ null        │\n",
       "│ min        ┆ 10.1186/1477 ┆ SM0          ┆ SCR_000004  ┆  MGA        ┆ null        ┆ # 198 genes │\n",
       "│            ┆ -5956-10-26  ┆              ┆             ┆             ┆             ┆ mapped to   │\n",
       "│            ┆              ┆              ┆             ┆             ┆             ┆ this te…    │\n",
       "│ 25%        ┆ null         ┆ null         ┆ null        ┆ null        ┆ null        ┆ null        │\n",
       "│ 50%        ┆ null         ┆ null         ┆ null        ┆ null        ┆ null        ┆ null        │\n",
       "│ 75%        ┆ null         ┆ null         ┆ null        ┆ null        ┆ null        ┆ null        │\n",
       "│ max        ┆ 10.9745/GHSP ┆ SM999999     ┆ SCR_021924  ┆ 鼠源及人源  ┆ null        ┆ 𝜀c          │\n",
       "│            ┆ -D-21-00144  ┆              ┆             ┆ 化BCMA CAR- ┆             ┆ regressions │\n",
       "│            ┆              ┆              ┆             ┆ T的转染效率 ┆             ┆ and compari │\n",
       "│            ┆              ┆              ┆             ┆             ┆             ┆ sons…       │\n",
       "└────────────┴──────────────┴──────────────┴─────────────┴─────────────┴─────────────┴─────────────┘"
      ]
     },
     "execution_count": 93,
     "metadata": {},
     "output_type": "execute_result"
    }
   ],
   "source": [
    "final_df.describe()"
   ]
  },
  {
   "cell_type": "code",
   "execution_count": 94,
   "id": "88c2d6b1",
   "metadata": {},
   "outputs": [
    {
     "name": "stdout",
     "output_type": "stream",
     "text": [
      "0.7386183037519727\n"
     ]
    }
   ],
   "source": [
    "# not many RRIDs\n",
    "null_ratio = final_df.select(\n",
    "    (pl.col(\"software_id\").is_null().sum() / pl.len())\n",
    ").item()\n",
    "\n",
    "print(null_ratio)\n"
   ]
  }
 ],
 "metadata": {
  "kernelspec": {
   "display_name": "track1",
   "language": "python",
   "name": "python3"
  },
  "language_info": {
   "codemirror_mode": {
    "name": "ipython",
    "version": 3
   },
   "file_extension": ".py",
   "mimetype": "text/x-python",
   "name": "python",
   "nbconvert_exporter": "python",
   "pygments_lexer": "ipython3",
   "version": "3.9.6"
  }
 },
 "nbformat": 4,
 "nbformat_minor": 5
}
